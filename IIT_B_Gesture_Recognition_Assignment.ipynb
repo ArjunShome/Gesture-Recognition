{
 "cells": [
  {
   "cell_type": "markdown",
   "metadata": {},
   "source": [
    "# Gesture Recognition\n",
    "In this group project, you are going to build a 3D Conv model that will be able to predict the 5 gestures correctly. Please import the following libraries to get started.\n",
    "\n",
    "PG Diploma in Machine Learning and AI from IIIT Bangalore | Upgrad\n",
    "Developed by:\n",
    "1. Arjun Shome - Group facilitator\n",
    "\n",
    "Deep Learning Course Project - Gesture Recognition\n",
    "Problem Statement\n",
    "Imagine you are working as a data scientist at a home electronics company which manufactures state of the art smart televisions. You want to develop a cool feature in the smart-TV that can recognise five different gestures performed by the user which will help users control the TV without using a remote.\n",
    "\n",
    "The gestures are continuously monitored by the webcam mounted on the TV. Each gesture corresponds to a specific command:\n",
    "\n",
    "Gesture\tCorresponding Action\n",
    "Thumbs Up\tIncrease the volume.\n",
    "Thumbs Down\tDecrease the volume.\n",
    "Left Swipe\t'Jump' backwards 10 seconds.\n",
    "Right Swipe\t'Jump' forward 10 seconds.\n",
    "Stop\tPause the movie.\n",
    "Each video is a sequence of 30 frames (or images).\n",
    "\n",
    "Objectives:\n",
    "Generator: The generator should be able to take a batch of videos as input without any error. Steps like cropping, resizing and normalization should be performed successfully.\n",
    "\n",
    "Model: Develop a model that is able to train without any errors which will be judged on the total number of parameters (as the inference(prediction) time should be less) and the accuracy achieved. As suggested by Snehansu, start training on a small amount of data and then proceed further.\n",
    "\n",
    "Write up: This should contain the detailed procedure followed in choosing the final model. The write up should start with the reason for choosing the base model, then highlight the reasons and metrics taken into consideration to modify and experiment to arrive at the final model."
   ]
  },
  {
   "cell_type": "code",
   "execution_count": 20,
   "metadata": {},
   "outputs": [],
   "source": [
    "import warnings\n",
    "warnings.filterwarnings('ignore')\n",
    "\n",
    "import numpy as np\n",
    "import os\n",
    "from skimage.transform import resize\n",
    "from imageio import imread\n",
    "import matplotlib.pyplot as plt\n",
    "import datetime\n",
    "import os\n",
    "import math\n",
    "\n"
   ]
  },
  {
   "cell_type": "markdown",
   "metadata": {},
   "source": [
    "We set the random seed so that the results don't vary drastically."
   ]
  },
  {
   "cell_type": "code",
   "execution_count": 5,
   "metadata": {},
   "outputs": [],
   "source": [
    "np.random.seed(30)\n",
    "import random as rn\n",
    "rn.seed(30)\n",
    "from keras import backend as K\n",
    "import tensorflow as tf\n",
    "tf.random.set_seed(30)"
   ]
  },
  {
   "cell_type": "markdown",
   "metadata": {},
   "source": [
    "In this block, you read the folder names for training and validation. You also set the `batch_size` here. Note that you set the batch size in such a way that you are able to use the GPU in full capacity. You keep increasing the batch size until the machine throws an error."
   ]
  },
  {
   "cell_type": "code",
   "execution_count": 6,
   "metadata": {},
   "outputs": [],
   "source": [
    "train_doc = np.random.permutation(open('/home/arjun/Downloads/Project_data/train.csv').readlines())\n",
    "val_doc = np.random.permutation(open('/home/arjun/Downloads/Project_data/val.csv').readlines())\n",
    "batch_size = 10"
   ]
  },
  {
   "cell_type": "code",
   "execution_count": 7,
   "metadata": {},
   "outputs": [],
   "source": [
    "x = 30\n",
    "y = 120\n",
    "z = 120\n",
    "input_shape = (x,y,z,3)"
   ]
  },
  {
   "cell_type": "markdown",
   "metadata": {},
   "source": [
    "## Generator\n",
    "This is one of the most important part of the code. The overall structure of the generator has been given. In the generator, you are going to preprocess the images as you have images of 2 different dimensions as well as create a batch of video frames. You have to experiment with `img_idx`, `y`,`z` and normalization such that you get high accuracy."
   ]
  },
  {
   "cell_type": "code",
   "execution_count": 8,
   "metadata": {},
   "outputs": [],
   "source": [
    "def generator(source_path, folder_list, batch_size):\n",
    "    print( 'Source path = ', source_path, '; batch size =', batch_size)\n",
    "    img_idx = [x for x in range(0,x)]\n",
    "    while True:\n",
    "        t = np.random.permutation(folder_list)\n",
    "        num_batches = math.floor(len(folder_list)/batch_size)\n",
    "        for batch in range(num_batches): # we iterate over the number of batches\n",
    "            batch_data = np.zeros((batch_size,x,y,z,3)) # x is the number of images you use for each video, (y,z) is the final size of the input images and 3 is the number of channels RGB\n",
    "            batch_labels = np.zeros((batch_size,5)) # batch_labels is the one hot representation of the output\n",
    "            for folder in range(batch_size): # iterate over the batch_size\n",
    "                imgs = os.listdir(source_path+'/'+ t[folder + (batch*batch_size)].split(';')[0]) # read all the images in the folder\n",
    "                for idx,item in enumerate(img_idx): #  Iterate iver the frames/images of a folder to read them in\n",
    "                    image = imread(source_path+'/'+ t[folder + (batch*batch_size)].strip().split(';')[0]+'/'+imgs[item]).astype(np.float32)\n",
    "                    \n",
    "                    #crop the images and resize them. Note that the images are of 2 different shape \n",
    "                    #and the conv3D will throw error if the inputs in a batch have different shapes\n",
    "                    resized_img = resize(image,(120,120))\n",
    "\n",
    "                    batch_data[folder,idx,:,:,0] = resized_img[:,:,0]/255\n",
    "                    batch_data[folder,idx,:,:,1] = resized_img[:,:,1]/255\n",
    "                    batch_data[folder,idx,:,:,2] = resized_img[:,:,2]/255\n",
    "                    \n",
    "                batch_labels[folder, int(t[folder + (batch*batch_size)].strip().split(';')[2])] = 1\n",
    "            yield batch_data, batch_labels #you yield the batch_data and the batch_labels, remember what does yield do\n",
    "\n",
    "        \n",
    "        # write the code for the remaining data points which are left after full batches\n",
    "        batch_size_remain = len(folder_list) % batch_size\n",
    "        batch += 1\n",
    "        if (batch_size_remain!=0):\n",
    "            batch_data = np.zeros((batch_size_remain,x,y,z,3))\n",
    "            batch_labels = np.zeros((batch_size_remain,5))\n",
    "            for folder in range(batch_size_remain):\n",
    "                imgs = os.listdir(source_path+'/'+ t[folder + (batch*batch_size)].split(';')[0])\n",
    "                for idx, item in enumerate(img_idx):\n",
    "                    image = imread(source_path+'/'+ t[folder + (batch*batch_size)].strip().split(';')[0]+'/'+imgs[item]).astype(np.float32)\n",
    "                    resized_img = resize(image,(120,120))\n",
    "                    \n",
    "                    batch_data[folder,idx,:,:,0] = resized_img[:,:,0]/255\n",
    "                    batch_data[folder,idx,:,:,1] = resized_img[:,:,1]/255\n",
    "                    batch_data[folder,idx,:,:,2] = resized_img[:,:,2]/255\n",
    "                batch_labels[folder, int(t[folder + (batch*batch_size)].strip().split(';')[2])] = 1\n",
    "            yield batch_data, batch_labels\n"
   ]
  },
  {
   "cell_type": "markdown",
   "metadata": {},
   "source": [
    "Note here that a video is represented above in the generator as (number of images, height, width, number of channels). Take this into consideration while creating the model architecture."
   ]
  },
  {
   "cell_type": "code",
   "execution_count": 9,
   "metadata": {},
   "outputs": [
    {
     "name": "stdout",
     "output_type": "stream",
     "text": [
      "# training sequences = 663\n",
      "# validation sequences = 100\n",
      "# epochs = 20\n"
     ]
    }
   ],
   "source": [
    "curr_dt_time = datetime.datetime.now()\n",
    "train_path = '/home/arjun/Downloads/Project_data/train'\n",
    "val_path = '/home/arjun/Downloads/Project_data/val'\n",
    "num_train_sequences = len(train_doc)\n",
    "print('# training sequences =', num_train_sequences)\n",
    "num_val_sequences = len(val_doc)\n",
    "print('# validation sequences =', num_val_sequences)\n",
    "num_epochs = 20\n",
    "print ('# epochs =', num_epochs)"
   ]
  },
  {
   "cell_type": "markdown",
   "metadata": {},
   "source": [
    "## Model\n",
    "Here you make the model using different functionalities that Keras provides. Remember to use `Conv3D` and `MaxPooling3D` and not `Conv2D` and `Maxpooling2D` for a 3D convolution model. You would want to use `TimeDistributed` while building a Conv2D + RNN model. Also remember that the last layer is the softmax. Design the network in such a way that the model is able to give good accuracy on the least number of parameters so that it can fit in the memory of the webcam."
   ]
  },
  {
   "cell_type": "markdown",
   "metadata": {},
   "source": [
    "## CNN2D + RNN Model\n"
   ]
  },
  {
   "cell_type": "markdown",
   "metadata": {},
   "source": [
    "### CNN2D + GRU"
   ]
  },
  {
   "cell_type": "code",
   "execution_count": 10,
   "metadata": {},
   "outputs": [
    {
     "name": "stderr",
     "output_type": "stream",
     "text": [
      "2022-09-13 11:27:08.771977: W tensorflow/stream_executor/platform/default/dso_loader.cc:64] Could not load dynamic library 'libcuda.so.1'; dlerror: libcuda.so.1: cannot open shared object file: No such file or directory\n",
      "2022-09-13 11:27:08.772233: W tensorflow/stream_executor/cuda/cuda_driver.cc:263] failed call to cuInit: UNKNOWN ERROR (303)\n",
      "2022-09-13 11:27:08.772258: I tensorflow/stream_executor/cuda/cuda_diagnostics.cc:156] kernel driver does not appear to be running on this host (workspace): /proc/driver/nvidia/version does not exist\n",
      "2022-09-13 11:27:08.772708: I tensorflow/core/platform/cpu_feature_guard.cc:193] This TensorFlow binary is optimized with oneAPI Deep Neural Network Library (oneDNN) to use the following CPU instructions in performance-critical operations:  AVX2 FMA\n",
      "To enable them in other operations, rebuild TensorFlow with the appropriate compiler flags.\n"
     ]
    }
   ],
   "source": [
    "from keras.models import Sequential, Model\n",
    "from keras.layers import Dense, GRU, Flatten, TimeDistributed, Flatten, BatchNormalization, Activation, Dropout, LSTM\n",
    "from keras.layers.convolutional import Conv3D, MaxPooling3D, MaxPooling2D, Conv2D\n",
    "from keras.callbacks import ModelCheckpoint, ReduceLROnPlateau\n",
    "from keras import optimizers\n",
    "\n",
    "#write your model here\n",
    "model = Sequential()\n",
    "\n",
    "model.add(TimeDistributed(Conv2D(16,(3,3),padding = 'same',activation='relu'),input_shape = input_shape))\n",
    "model.add(TimeDistributed(BatchNormalization()))\n",
    "model.add(TimeDistributed(MaxPooling2D(2,2)))\n",
    "\n",
    "model.add(TimeDistributed(Conv2D(32,(3,3),padding = 'same',activation='relu'),input_shape = input_shape))\n",
    "model.add(TimeDistributed(BatchNormalization()))\n",
    "model.add(TimeDistributed(MaxPooling2D(2,2)))\n",
    "\n",
    "model.add(TimeDistributed(Conv2D(64,(3,3),padding = 'same',activation='relu')))\n",
    "model.add(TimeDistributed(BatchNormalization()))\n",
    "model.add(TimeDistributed(MaxPooling2D(2,2)))\n",
    "\n",
    "model.add(TimeDistributed(Conv2D(128,(3,3),padding = 'same',activation='relu')))\n",
    "model.add(TimeDistributed(BatchNormalization()))\n",
    "model.add(TimeDistributed(MaxPooling2D(2,2)))\n",
    "\n",
    "model.add(TimeDistributed(Conv2D(256,(3,3),padding = 'same',activation='relu')))\n",
    "model.add(TimeDistributed(BatchNormalization()))\n",
    "model.add(TimeDistributed(MaxPooling2D(2,2)))\n",
    "\n",
    "model.add(TimeDistributed(Flatten()))\n",
    "\n",
    "model.add(GRU(256,return_sequences = False))\n",
    "model.add(Dropout(0.25))\n",
    "model.add(Dense(256,activation='relu'))\n",
    "model.add(Dropout(0.25))\n",
    "model.add(Dense(5,activation='softmax'))"
   ]
  },
  {
   "cell_type": "markdown",
   "metadata": {},
   "source": [
    "Now that you have written the model, the next step is to `compile` the model. When you print the `summary` of the model, you'll see the total number of parameters you have to train."
   ]
  },
  {
   "cell_type": "code",
   "execution_count": 11,
   "metadata": {
    "scrolled": true
   },
   "outputs": [
    {
     "name": "stdout",
     "output_type": "stream",
     "text": [
      "Model: \"sequential\"\n",
      "_________________________________________________________________\n",
      " Layer (type)                Output Shape              Param #   \n",
      "=================================================================\n",
      " time_distributed (TimeDistr  (None, 30, 120, 120, 16)  448      \n",
      " ibuted)                                                         \n",
      "                                                                 \n",
      " time_distributed_1 (TimeDis  (None, 30, 120, 120, 16)  64       \n",
      " tributed)                                                       \n",
      "                                                                 \n",
      " time_distributed_2 (TimeDis  (None, 30, 60, 60, 16)   0         \n",
      " tributed)                                                       \n",
      "                                                                 \n",
      " time_distributed_3 (TimeDis  (None, 30, 60, 60, 32)   4640      \n",
      " tributed)                                                       \n",
      "                                                                 \n",
      " time_distributed_4 (TimeDis  (None, 30, 60, 60, 32)   128       \n",
      " tributed)                                                       \n",
      "                                                                 \n",
      " time_distributed_5 (TimeDis  (None, 30, 30, 30, 32)   0         \n",
      " tributed)                                                       \n",
      "                                                                 \n",
      " time_distributed_6 (TimeDis  (None, 30, 30, 30, 64)   18496     \n",
      " tributed)                                                       \n",
      "                                                                 \n",
      " time_distributed_7 (TimeDis  (None, 30, 30, 30, 64)   256       \n",
      " tributed)                                                       \n",
      "                                                                 \n",
      " time_distributed_8 (TimeDis  (None, 30, 15, 15, 64)   0         \n",
      " tributed)                                                       \n",
      "                                                                 \n",
      " time_distributed_9 (TimeDis  (None, 30, 15, 15, 128)  73856     \n",
      " tributed)                                                       \n",
      "                                                                 \n",
      " time_distributed_10 (TimeDi  (None, 30, 15, 15, 128)  512       \n",
      " stributed)                                                      \n",
      "                                                                 \n",
      " time_distributed_11 (TimeDi  (None, 30, 7, 7, 128)    0         \n",
      " stributed)                                                      \n",
      "                                                                 \n",
      " time_distributed_12 (TimeDi  (None, 30, 7, 7, 256)    295168    \n",
      " stributed)                                                      \n",
      "                                                                 \n",
      " time_distributed_13 (TimeDi  (None, 30, 7, 7, 256)    1024      \n",
      " stributed)                                                      \n",
      "                                                                 \n",
      " time_distributed_14 (TimeDi  (None, 30, 3, 3, 256)    0         \n",
      " stributed)                                                      \n",
      "                                                                 \n",
      " time_distributed_15 (TimeDi  (None, 30, 2304)         0         \n",
      " stributed)                                                      \n",
      "                                                                 \n",
      " gru (GRU)                   (None, 256)               1967616   \n",
      "                                                                 \n",
      " dropout (Dropout)           (None, 256)               0         \n",
      "                                                                 \n",
      " dense (Dense)               (None, 256)               65792     \n",
      "                                                                 \n",
      " dropout_1 (Dropout)         (None, 256)               0         \n",
      "                                                                 \n",
      " dense_1 (Dense)             (None, 5)                 1285      \n",
      "                                                                 \n",
      "=================================================================\n",
      "Total params: 2,429,285\n",
      "Trainable params: 2,428,293\n",
      "Non-trainable params: 992\n",
      "_________________________________________________________________\n",
      "None\n"
     ]
    }
   ],
   "source": [
    "optimiser = optimizers.Adam(0.0001)\n",
    "model.compile(optimizer=optimiser, loss='categorical_crossentropy', metrics=['categorical_accuracy'])\n",
    "print (model.summary())"
   ]
  },
  {
   "cell_type": "markdown",
   "metadata": {},
   "source": [
    "Let us create the `train_generator` and the `val_generator` which will be used in `.fit_generator`."
   ]
  },
  {
   "cell_type": "code",
   "execution_count": 12,
   "metadata": {},
   "outputs": [],
   "source": [
    "train_generator = generator(train_path, train_doc, batch_size)\n",
    "val_generator = generator(val_path, val_doc, batch_size)"
   ]
  },
  {
   "cell_type": "code",
   "execution_count": 13,
   "metadata": {},
   "outputs": [
    {
     "name": "stdout",
     "output_type": "stream",
     "text": [
      "WARNING:tensorflow:`period` argument is deprecated. Please use `save_freq` to specify the frequency in number of batches seen.\n"
     ]
    }
   ],
   "source": [
    "model_name = 'model_init' + '_' + str(curr_dt_time).replace(' ','').replace(':','_') + '/'\n",
    "    \n",
    "if not os.path.exists(model_name):\n",
    "    os.mkdir(model_name)\n",
    "        \n",
    "filepath = model_name + 'model-{epoch:05d}-{loss:.5f}-{categorical_accuracy:.5f}-{val_loss:.5f}-{val_categorical_accuracy:.5f}.h5'\n",
    "\n",
    "checkpoint = ModelCheckpoint(filepath, monitor='val_loss', verbose=1, save_best_only=False, save_weights_only=False, mode='auto', period=1)\n",
    "\n",
    "LR = ReduceLROnPlateau(monitor='val_loss',factor=0.5,patience=2,cooldown=1,verbose=1)\n",
    "callbacks_list = [checkpoint, LR]"
   ]
  },
  {
   "cell_type": "markdown",
   "metadata": {},
   "source": [
    "The `steps_per_epoch` and `validation_steps` are used by `fit_generator` to decide the number of next() calls it need to make."
   ]
  },
  {
   "cell_type": "code",
   "execution_count": 14,
   "metadata": {},
   "outputs": [],
   "source": [
    "if (num_train_sequences%batch_size) == 0:\n",
    "    steps_per_epoch = int(num_train_sequences/batch_size)\n",
    "else:\n",
    "    steps_per_epoch = (num_train_sequences//batch_size) + 1\n",
    "\n",
    "if (num_val_sequences%batch_size) == 0:\n",
    "    validation_steps = int(num_val_sequences/batch_size)\n",
    "else:\n",
    "    validation_steps = (num_val_sequences//batch_size) + 1"
   ]
  },
  {
   "cell_type": "markdown",
   "metadata": {},
   "source": [
    "Let us now fit the model. This will start training the model and with the help of the checkpoints, you'll be able to save the model at the end of each epoch."
   ]
  },
  {
   "cell_type": "code",
   "execution_count": 15,
   "metadata": {},
   "outputs": [
    {
     "name": "stdout",
     "output_type": "stream",
     "text": [
      "Source path =  /home/arjun/Downloads/Project_data/train ; batch size = 10\n",
      "Epoch 1/20\n",
      "67/67 [==============================] - ETA: 0s - loss: 1.4168 - categorical_accuracy: 0.4012Source path =  /home/arjun/Downloads/Project_data/val ; batch size = 10\n",
      "\n",
      "Epoch 1: saving model to model_init_2022-09-1311_26_59.180547/model-00001-1.41679-0.40121-1.92460-0.21000.h5\n",
      "67/67 [==============================] - 278s 4s/step - loss: 1.4168 - categorical_accuracy: 0.4012 - val_loss: 1.9246 - val_categorical_accuracy: 0.2100 - lr: 1.0000e-04\n",
      "Epoch 2/20\n",
      "67/67 [==============================] - ETA: 0s - loss: 0.8989 - categorical_accuracy: 0.6652\n",
      "Epoch 2: saving model to model_init_2022-09-1311_26_59.180547/model-00002-0.89888-0.66516-2.51845-0.21000.h5\n",
      "67/67 [==============================] - 287s 4s/step - loss: 0.8989 - categorical_accuracy: 0.6652 - val_loss: 2.5184 - val_categorical_accuracy: 0.2100 - lr: 1.0000e-04\n",
      "Epoch 3/20\n",
      "67/67 [==============================] - ETA: 0s - loss: 0.6434 - categorical_accuracy: 0.7768\n",
      "Epoch 3: saving model to model_init_2022-09-1311_26_59.180547/model-00003-0.64340-0.77677-2.66144-0.28000.h5\n",
      "\n",
      "Epoch 3: ReduceLROnPlateau reducing learning rate to 4.999999873689376e-05.\n",
      "67/67 [==============================] - 256s 4s/step - loss: 0.6434 - categorical_accuracy: 0.7768 - val_loss: 2.6614 - val_categorical_accuracy: 0.2800 - lr: 1.0000e-04\n",
      "Epoch 4/20\n",
      "67/67 [==============================] - ETA: 0s - loss: 0.4345 - categorical_accuracy: 0.8763\n",
      "Epoch 4: saving model to model_init_2022-09-1311_26_59.180547/model-00004-0.43446-0.87632-2.81473-0.30000.h5\n",
      "67/67 [==============================] - 253s 4s/step - loss: 0.4345 - categorical_accuracy: 0.8763 - val_loss: 2.8147 - val_categorical_accuracy: 0.3000 - lr: 5.0000e-05\n",
      "Epoch 5/20\n",
      "67/67 [==============================] - ETA: 0s - loss: 0.3361 - categorical_accuracy: 0.9050\n",
      "Epoch 5: saving model to model_init_2022-09-1311_26_59.180547/model-00005-0.33611-0.90498-2.45234-0.35000.h5\n",
      "\n",
      "Epoch 5: ReduceLROnPlateau reducing learning rate to 2.499999936844688e-05.\n",
      "67/67 [==============================] - 252s 4s/step - loss: 0.3361 - categorical_accuracy: 0.9050 - val_loss: 2.4523 - val_categorical_accuracy: 0.3500 - lr: 5.0000e-05\n",
      "Epoch 6/20\n",
      "67/67 [==============================] - ETA: 0s - loss: 0.2934 - categorical_accuracy: 0.9336\n",
      "Epoch 6: saving model to model_init_2022-09-1311_26_59.180547/model-00006-0.29339-0.93363-2.11334-0.37000.h5\n",
      "67/67 [==============================] - 253s 4s/step - loss: 0.2934 - categorical_accuracy: 0.9336 - val_loss: 2.1133 - val_categorical_accuracy: 0.3700 - lr: 2.5000e-05\n",
      "Epoch 7/20\n",
      "67/67 [==============================] - ETA: 0s - loss: 0.2369 - categorical_accuracy: 0.9608\n",
      "Epoch 7: saving model to model_init_2022-09-1311_26_59.180547/model-00007-0.23694-0.96078-1.83887-0.39000.h5\n",
      "67/67 [==============================] - 253s 4s/step - loss: 0.2369 - categorical_accuracy: 0.9608 - val_loss: 1.8389 - val_categorical_accuracy: 0.3900 - lr: 2.5000e-05\n",
      "Epoch 8/20\n",
      "67/67 [==============================] - ETA: 0s - loss: 0.1994 - categorical_accuracy: 0.9623\n",
      "Epoch 8: saving model to model_init_2022-09-1311_26_59.180547/model-00008-0.19945-0.96229-1.28203-0.53000.h5\n",
      "67/67 [==============================] - 258s 4s/step - loss: 0.1994 - categorical_accuracy: 0.9623 - val_loss: 1.2820 - val_categorical_accuracy: 0.5300 - lr: 2.5000e-05\n",
      "Epoch 9/20\n",
      "67/67 [==============================] - ETA: 0s - loss: 0.1784 - categorical_accuracy: 0.9759\n",
      "Epoch 9: saving model to model_init_2022-09-1311_26_59.180547/model-00009-0.17840-0.97587-0.99603-0.63000.h5\n",
      "67/67 [==============================] - 258s 4s/step - loss: 0.1784 - categorical_accuracy: 0.9759 - val_loss: 0.9960 - val_categorical_accuracy: 0.6300 - lr: 2.5000e-05\n",
      "Epoch 10/20\n",
      "67/67 [==============================] - ETA: 0s - loss: 0.1672 - categorical_accuracy: 0.9729\n",
      "Epoch 10: saving model to model_init_2022-09-1311_26_59.180547/model-00010-0.16721-0.97285-0.85428-0.67000.h5\n",
      "67/67 [==============================] - 255s 4s/step - loss: 0.1672 - categorical_accuracy: 0.9729 - val_loss: 0.8543 - val_categorical_accuracy: 0.6700 - lr: 2.5000e-05\n",
      "Epoch 11/20\n",
      "67/67 [==============================] - ETA: 0s - loss: 0.1374 - categorical_accuracy: 0.9864\n",
      "Epoch 11: saving model to model_init_2022-09-1311_26_59.180547/model-00011-0.13742-0.98643-0.81184-0.70000.h5\n",
      "67/67 [==============================] - 252s 4s/step - loss: 0.1374 - categorical_accuracy: 0.9864 - val_loss: 0.8118 - val_categorical_accuracy: 0.7000 - lr: 2.5000e-05\n",
      "Epoch 12/20\n",
      "67/67 [==============================] - ETA: 0s - loss: 0.1284 - categorical_accuracy: 0.9894\n",
      "Epoch 12: saving model to model_init_2022-09-1311_26_59.180547/model-00012-0.12840-0.98944-0.81490-0.73000.h5\n",
      "67/67 [==============================] - 253s 4s/step - loss: 0.1284 - categorical_accuracy: 0.9894 - val_loss: 0.8149 - val_categorical_accuracy: 0.7300 - lr: 2.5000e-05\n",
      "Epoch 13/20\n",
      "67/67 [==============================] - ETA: 0s - loss: 0.1168 - categorical_accuracy: 0.9910\n",
      "Epoch 13: saving model to model_init_2022-09-1311_26_59.180547/model-00013-0.11676-0.99095-0.69387-0.77000.h5\n",
      "67/67 [==============================] - 252s 4s/step - loss: 0.1168 - categorical_accuracy: 0.9910 - val_loss: 0.6939 - val_categorical_accuracy: 0.7700 - lr: 2.5000e-05\n",
      "Epoch 14/20\n",
      "67/67 [==============================] - ETA: 0s - loss: 0.0978 - categorical_accuracy: 0.9940\n",
      "Epoch 14: saving model to model_init_2022-09-1311_26_59.180547/model-00014-0.09783-0.99397-0.68259-0.76000.h5\n",
      "67/67 [==============================] - 252s 4s/step - loss: 0.0978 - categorical_accuracy: 0.9940 - val_loss: 0.6826 - val_categorical_accuracy: 0.7600 - lr: 2.5000e-05\n",
      "Epoch 15/20\n",
      "67/67 [==============================] - ETA: 0s - loss: 0.0912 - categorical_accuracy: 0.9925\n",
      "Epoch 15: saving model to model_init_2022-09-1311_26_59.180547/model-00015-0.09117-0.99246-0.90532-0.68000.h5\n",
      "67/67 [==============================] - 252s 4s/step - loss: 0.0912 - categorical_accuracy: 0.9925 - val_loss: 0.9053 - val_categorical_accuracy: 0.6800 - lr: 2.5000e-05\n",
      "Epoch 16/20\n",
      "67/67 [==============================] - ETA: 0s - loss: 0.0820 - categorical_accuracy: 0.9925\n",
      "Epoch 16: saving model to model_init_2022-09-1311_26_59.180547/model-00016-0.08199-0.99246-0.73995-0.77000.h5\n",
      "\n",
      "Epoch 16: ReduceLROnPlateau reducing learning rate to 1.249999968422344e-05.\n",
      "67/67 [==============================] - 252s 4s/step - loss: 0.0820 - categorical_accuracy: 0.9925 - val_loss: 0.7399 - val_categorical_accuracy: 0.7700 - lr: 2.5000e-05\n",
      "Epoch 17/20\n",
      "67/67 [==============================] - ETA: 0s - loss: 0.0718 - categorical_accuracy: 0.9955\n",
      "Epoch 17: saving model to model_init_2022-09-1311_26_59.180547/model-00017-0.07178-0.99548-0.64464-0.76000.h5\n",
      "67/67 [==============================] - 252s 4s/step - loss: 0.0718 - categorical_accuracy: 0.9955 - val_loss: 0.6446 - val_categorical_accuracy: 0.7600 - lr: 1.2500e-05\n",
      "Epoch 18/20\n",
      "67/67 [==============================] - ETA: 0s - loss: 0.0624 - categorical_accuracy: 0.9985\n",
      "Epoch 18: saving model to model_init_2022-09-1311_26_59.180547/model-00018-0.06241-0.99849-0.73642-0.73000.h5\n",
      "67/67 [==============================] - 253s 4s/step - loss: 0.0624 - categorical_accuracy: 0.9985 - val_loss: 0.7364 - val_categorical_accuracy: 0.7300 - lr: 1.2500e-05\n",
      "Epoch 19/20\n",
      "67/67 [==============================] - ETA: 0s - loss: 0.0583 - categorical_accuracy: 0.9970\n",
      "Epoch 19: saving model to model_init_2022-09-1311_26_59.180547/model-00019-0.05835-0.99698-0.78779-0.72000.h5\n",
      "\n",
      "Epoch 19: ReduceLROnPlateau reducing learning rate to 6.24999984211172e-06.\n",
      "67/67 [==============================] - 253s 4s/step - loss: 0.0583 - categorical_accuracy: 0.9970 - val_loss: 0.7878 - val_categorical_accuracy: 0.7200 - lr: 1.2500e-05\n",
      "Epoch 20/20\n",
      "67/67 [==============================] - ETA: 0s - loss: 0.0647 - categorical_accuracy: 0.9985\n",
      "Epoch 20: saving model to model_init_2022-09-1311_26_59.180547/model-00020-0.06471-0.99849-0.78015-0.73000.h5\n",
      "67/67 [==============================] - 251s 4s/step - loss: 0.0647 - categorical_accuracy: 0.9985 - val_loss: 0.7801 - val_categorical_accuracy: 0.7300 - lr: 6.2500e-06\n"
     ]
    }
   ],
   "source": [
    "history=model.fit(train_generator, steps_per_epoch=steps_per_epoch, epochs=num_epochs, verbose=1, \n",
    "                    callbacks=callbacks_list, validation_data=val_generator, \n",
    "                    validation_steps=validation_steps, class_weight=None, workers=1, initial_epoch=0)"
   ]
  },
  {
   "cell_type": "code",
   "execution_count": 16,
   "metadata": {},
   "outputs": [
    {
     "data": {
      "text/plain": [
       "<matplotlib.legend.Legend at 0x7fcd23fb1070>"
      ]
     },
     "execution_count": 16,
     "metadata": {},
     "output_type": "execute_result"
    },
    {
     "data": {
      "image/png": "[encoded data removed]",
      "text/plain": [
       "<Figure size 1440x432 with 2 Axes>"
      ]
     },
     "metadata": {
      "needs_background": "light"
     },
     "output_type": "display_data"
    }
   ],
   "source": [
    "plt.figure(figsize=(20,6))\n",
    "ax1 = plt.subplot(121)\n",
    "ax1 = plt.plot(history.history['loss'])\n",
    "ax1 = plt.plot(history.history['val_loss'])\n",
    "plt.title('model loss')\n",
    "plt.ylabel('loss')\n",
    "plt.xlabel('epoch')\n",
    "plt.legend(['train', 'validation'], loc='lower left')\n",
    "ax2 = plt.subplot(122)\n",
    "ax2 = plt.plot(history.history['categorical_accuracy'])\n",
    "ax2 = plt.plot(history.history['val_categorical_accuracy'])\n",
    "plt.title('model accuracy')\n",
    "plt.ylabel('categorical_accuracy')\n",
    "plt.xlabel('epoch')\n",
    "plt.legend(['train', 'validation'], loc='lower left')"
   ]
  },
  {
   "cell_type": "markdown",
   "metadata": {},
   "source": [
    "This model certainly seems to overfit here.\n",
    "Training Accuracy - 99.85\n",
    "Validation Accuracy -  73.0"
   ]
  },
  {
   "cell_type": "markdown",
   "metadata": {},
   "source": [
    "CNN2D + LSTM"
   ]
  },
  {
   "cell_type": "code",
   "execution_count": 17,
   "metadata": {},
   "outputs": [],
   "source": [
    "from tensorflow.keras.models import Sequential, Model\n",
    "from tensorflow.keras.layers import Dense, GRU, Flatten, TimeDistributed, Flatten, BatchNormalization, Activation, Dropout, LSTM\n",
    "from keras.layers.convolutional import Conv3D, MaxPooling3D, MaxPooling2D, Conv2D\n",
    "from tensorflow.keras.callbacks import ModelCheckpoint, ReduceLROnPlateau\n",
    "from tensorflow.keras import optimizers\n",
    "\n",
    "model = Sequential()\n",
    "\n",
    "model.add(TimeDistributed(Conv2D(16,(3,3),padding = 'same',activation='relu'),input_shape = input_shape))\n",
    "model.add(TimeDistributed(BatchNormalization()))\n",
    "model.add(TimeDistributed(MaxPooling2D(2,2)))\n",
    "\n",
    "model.add(TimeDistributed(Conv2D(32,(3,3),padding = 'same',activation='relu'),input_shape = input_shape))\n",
    "model.add(TimeDistributed(BatchNormalization()))\n",
    "model.add(TimeDistributed(MaxPooling2D(2,2)))\n",
    "\n",
    "model.add(TimeDistributed(Conv2D(64,(3,3),padding = 'same',activation='relu')))\n",
    "model.add(TimeDistributed(BatchNormalization()))\n",
    "model.add(TimeDistributed(MaxPooling2D(2,2)))\n",
    "\n",
    "model.add(TimeDistributed(Conv2D(128,(3,3),padding = 'same',activation='relu')))\n",
    "model.add(TimeDistributed(BatchNormalization()))\n",
    "model.add(TimeDistributed(MaxPooling2D(2,2)))\n",
    "\n",
    "model.add(TimeDistributed(Conv2D(256,(3,3),padding = 'same',activation='relu')))\n",
    "model.add(TimeDistributed(BatchNormalization()))\n",
    "model.add(TimeDistributed(MaxPooling2D(2,2)))\n",
    "\n",
    "model.add(TimeDistributed(Flatten()))\n",
    "\n",
    "model.add(LSTM(256,return_sequences = False))\n",
    "model.add(Dropout(0.25))\n",
    "model.add(Dense(256,activation='relu'))\n",
    "model.add(Dropout(0.25))\n",
    "model.add(Dense(5,activation='softmax'))"
   ]
  },
  {
   "cell_type": "code",
   "execution_count": 18,
   "metadata": {},
   "outputs": [
    {
     "name": "stdout",
     "output_type": "stream",
     "text": [
      "Model: \"sequential_1\"\n",
      "_________________________________________________________________\n",
      " Layer (type)                Output Shape              Param #   \n",
      "=================================================================\n",
      " time_distributed_16 (TimeDi  (None, 30, 120, 120, 16)  448      \n",
      " stributed)                                                      \n",
      "                                                                 \n",
      " time_distributed_17 (TimeDi  (None, 30, 120, 120, 16)  64       \n",
      " stributed)                                                      \n",
      "                                                                 \n",
      " time_distributed_18 (TimeDi  (None, 30, 60, 60, 16)   0         \n",
      " stributed)                                                      \n",
      "                                                                 \n",
      " time_distributed_19 (TimeDi  (None, 30, 60, 60, 32)   4640      \n",
      " stributed)                                                      \n",
      "                                                                 \n",
      " time_distributed_20 (TimeDi  (None, 30, 60, 60, 32)   128       \n",
      " stributed)                                                      \n",
      "                                                                 \n",
      " time_distributed_21 (TimeDi  (None, 30, 30, 30, 32)   0         \n",
      " stributed)                                                      \n",
      "                                                                 \n",
      " time_distributed_22 (TimeDi  (None, 30, 30, 30, 64)   18496     \n",
      " stributed)                                                      \n",
      "                                                                 \n",
      " time_distributed_23 (TimeDi  (None, 30, 30, 30, 64)   256       \n",
      " stributed)                                                      \n",
      "                                                                 \n",
      " time_distributed_24 (TimeDi  (None, 30, 15, 15, 64)   0         \n",
      " stributed)                                                      \n",
      "                                                                 \n",
      " time_distributed_25 (TimeDi  (None, 30, 15, 15, 128)  73856     \n",
      " stributed)                                                      \n",
      "                                                                 \n",
      " time_distributed_26 (TimeDi  (None, 30, 15, 15, 128)  512       \n",
      " stributed)                                                      \n",
      "                                                                 \n",
      " time_distributed_27 (TimeDi  (None, 30, 7, 7, 128)    0         \n",
      " stributed)                                                      \n",
      "                                                                 \n",
      " time_distributed_28 (TimeDi  (None, 30, 7, 7, 256)    295168    \n",
      " stributed)                                                      \n",
      "                                                                 \n",
      " time_distributed_29 (TimeDi  (None, 30, 7, 7, 256)    1024      \n",
      " stributed)                                                      \n",
      "                                                                 \n",
      " time_distributed_30 (TimeDi  (None, 30, 3, 3, 256)    0         \n",
      " stributed)                                                      \n",
      "                                                                 \n",
      " time_distributed_31 (TimeDi  (None, 30, 2304)         0         \n",
      " stributed)                                                      \n",
      "                                                                 \n",
      " lstm (LSTM)                 (None, 256)               2622464   \n",
      "                                                                 \n",
      " dropout_2 (Dropout)         (None, 256)               0         \n",
      "                                                                 \n",
      " dense_2 (Dense)             (None, 256)               65792     \n",
      "                                                                 \n",
      " dropout_3 (Dropout)         (None, 256)               0         \n",
      "                                                                 \n",
      " dense_3 (Dense)             (None, 5)                 1285      \n",
      "                                                                 \n",
      "=================================================================\n",
      "Total params: 3,084,133\n",
      "Trainable params: 3,083,141\n",
      "Non-trainable params: 992\n",
      "_________________________________________________________________\n",
      "None\n"
     ]
    }
   ],
   "source": [
    "optimiser = optimizers.Adam(0.0001)\n",
    "model.compile(optimizer=optimiser, loss='categorical_crossentropy', metrics=['categorical_accuracy'])\n",
    "print (model.summary())"
   ]
  },
  {
   "cell_type": "code",
   "execution_count": 19,
   "metadata": {},
   "outputs": [],
   "source": [
    "train_generator = generator(train_path, train_doc, batch_size)\n",
    "val_generator = generator(val_path, val_doc, batch_size)"
   ]
  },
  {
   "cell_type": "code",
   "execution_count": 20,
   "metadata": {},
   "outputs": [
    {
     "name": "stdout",
     "output_type": "stream",
     "text": [
      "WARNING:tensorflow:`period` argument is deprecated. Please use `save_freq` to specify the frequency in number of batches seen.\n"
     ]
    }
   ],
   "source": [
    "model_name = 'model_initCNN2DLSTM' + '_' + str(curr_dt_time).replace(' ','').replace(':','_') + '/'\n",
    "    \n",
    "if not os.path.exists(model_name):\n",
    "    os.mkdir(model_name)\n",
    "        \n",
    "filepath = model_name + 'model-{epoch:05d}-{loss:.5f}-{categorical_accuracy:.5f}-{val_loss:.5f}-{val_categorical_accuracy:.5f}.h5'\n",
    "\n",
    "checkpoint = ModelCheckpoint(filepath, monitor='val_loss', verbose=1, save_best_only=False, save_weights_only=False, mode='auto', period=1)\n",
    "\n",
    "LR = ReduceLROnPlateau(monitor='val_loss',factor=0.5,patience=2,cooldown=1,verbose=1)\n",
    "callbacks_list = [checkpoint, LR]"
   ]
  },
  {
   "cell_type": "code",
   "execution_count": 21,
   "metadata": {},
   "outputs": [],
   "source": [
    "if (num_train_sequences%batch_size) == 0:\n",
    "    steps_per_epoch = int(num_train_sequences/batch_size)\n",
    "else:\n",
    "    steps_per_epoch = (num_train_sequences//batch_size) + 1\n",
    "\n",
    "if (num_val_sequences%batch_size) == 0:\n",
    "    validation_steps = int(num_val_sequences/batch_size)\n",
    "else:\n",
    "    validation_steps = (num_val_sequences//batch_size) + 1"
   ]
  },
  {
   "cell_type": "code",
   "execution_count": 22,
   "metadata": {},
   "outputs": [
    {
     "name": "stdout",
     "output_type": "stream",
     "text": [
      "Source path =  /home/arjun/Downloads/Project_data/train ; batch size = 10\n",
      "Epoch 1/20\n",
      "67/67 [==============================] - ETA: 0s - loss: 1.4412 - categorical_accuracy: 0.3937Source path =  /home/arjun/Downloads/Project_data/val ; batch size = 10\n",
      "\n",
      "Epoch 1: saving model to model_initCNN2DLSTM_2022-09-1311_26_59.180547/model-00001-1.44118-0.39367-1.61582-0.21000.h5\n",
      "67/67 [==============================] - 261s 4s/step - loss: 1.4412 - categorical_accuracy: 0.3937 - val_loss: 1.6158 - val_categorical_accuracy: 0.2100 - lr: 1.0000e-04\n",
      "Epoch 2/20\n",
      "67/67 [==============================] - ETA: 0s - loss: 1.0738 - categorical_accuracy: 0.5716\n",
      "Epoch 2: saving model to model_initCNN2DLSTM_2022-09-1311_26_59.180547/model-00002-1.07379-0.57164-1.62561-0.25000.h5\n",
      "67/67 [==============================] - 263s 4s/step - loss: 1.0738 - categorical_accuracy: 0.5716 - val_loss: 1.6256 - val_categorical_accuracy: 0.2500 - lr: 1.0000e-04\n",
      "Epoch 3/20\n",
      "67/67 [==============================] - ETA: 0s - loss: 0.8810 - categorical_accuracy: 0.6591\n",
      "Epoch 3: saving model to model_initCNN2DLSTM_2022-09-1311_26_59.180547/model-00003-0.88095-0.65913-1.69332-0.28000.h5\n",
      "\n",
      "Epoch 3: ReduceLROnPlateau reducing learning rate to 4.999999873689376e-05.\n",
      "67/67 [==============================] - 264s 4s/step - loss: 0.8810 - categorical_accuracy: 0.6591 - val_loss: 1.6933 - val_categorical_accuracy: 0.2800 - lr: 1.0000e-04\n",
      "Epoch 4/20\n",
      "67/67 [==============================] - ETA: 0s - loss: 0.7178 - categorical_accuracy: 0.7406\n",
      "Epoch 4: saving model to model_initCNN2DLSTM_2022-09-1311_26_59.180547/model-00004-0.71776-0.74057-1.77791-0.27000.h5\n",
      "67/67 [==============================] - 261s 4s/step - loss: 0.7178 - categorical_accuracy: 0.7406 - val_loss: 1.7779 - val_categorical_accuracy: 0.2700 - lr: 5.0000e-05\n",
      "Epoch 5/20\n",
      "67/67 [==============================] - ETA: 0s - loss: 0.5603 - categorical_accuracy: 0.8220\n",
      "Epoch 5: saving model to model_initCNN2DLSTM_2022-09-1311_26_59.180547/model-00005-0.56027-0.82202-2.07668-0.28000.h5\n",
      "\n",
      "Epoch 5: ReduceLROnPlateau reducing learning rate to 2.499999936844688e-05.\n",
      "67/67 [==============================] - 262s 4s/step - loss: 0.5603 - categorical_accuracy: 0.8220 - val_loss: 2.0767 - val_categorical_accuracy: 0.2800 - lr: 5.0000e-05\n",
      "Epoch 6/20\n",
      "67/67 [==============================] - ETA: 0s - loss: 0.4915 - categorical_accuracy: 0.8401\n",
      "Epoch 6: saving model to model_initCNN2DLSTM_2022-09-1311_26_59.180547/model-00006-0.49153-0.84012-1.85921-0.36000.h5\n",
      "67/67 [==============================] - 262s 4s/step - loss: 0.4915 - categorical_accuracy: 0.8401 - val_loss: 1.8592 - val_categorical_accuracy: 0.3600 - lr: 2.5000e-05\n",
      "Epoch 7/20\n",
      "67/67 [==============================] - ETA: 0s - loss: 0.4211 - categorical_accuracy: 0.8733\n",
      "Epoch 7: saving model to model_initCNN2DLSTM_2022-09-1311_26_59.180547/model-00007-0.42113-0.87330-1.41209-0.51000.h5\n",
      "67/67 [==============================] - 260s 4s/step - loss: 0.4211 - categorical_accuracy: 0.8733 - val_loss: 1.4121 - val_categorical_accuracy: 0.5100 - lr: 2.5000e-05\n",
      "Epoch 8/20\n",
      "67/67 [==============================] - ETA: 0s - loss: 0.3861 - categorical_accuracy: 0.8884\n",
      "Epoch 8: saving model to model_initCNN2DLSTM_2022-09-1311_26_59.180547/model-00008-0.38605-0.88839-1.43794-0.47000.h5\n",
      "67/67 [==============================] - 262s 4s/step - loss: 0.3861 - categorical_accuracy: 0.8884 - val_loss: 1.4379 - val_categorical_accuracy: 0.4700 - lr: 2.5000e-05\n",
      "Epoch 9/20\n",
      "67/67 [==============================] - ETA: 0s - loss: 0.3362 - categorical_accuracy: 0.9216\n",
      "Epoch 9: saving model to model_initCNN2DLSTM_2022-09-1311_26_59.180547/model-00009-0.33620-0.92157-1.06869-0.56000.h5\n",
      "67/67 [==============================] - 262s 4s/step - loss: 0.3362 - categorical_accuracy: 0.9216 - val_loss: 1.0687 - val_categorical_accuracy: 0.5600 - lr: 2.5000e-05\n",
      "Epoch 10/20\n",
      "67/67 [==============================] - ETA: 0s - loss: 0.2826 - categorical_accuracy: 0.9367\n",
      "Epoch 10: saving model to model_initCNN2DLSTM_2022-09-1311_26_59.180547/model-00010-0.28264-0.93665-0.81339-0.68000.h5\n",
      "67/67 [==============================] - 262s 4s/step - loss: 0.2826 - categorical_accuracy: 0.9367 - val_loss: 0.8134 - val_categorical_accuracy: 0.6800 - lr: 2.5000e-05\n",
      "Epoch 11/20\n",
      "67/67 [==============================] - ETA: 0s - loss: 0.2366 - categorical_accuracy: 0.9532\n",
      "Epoch 11: saving model to model_initCNN2DLSTM_2022-09-1311_26_59.180547/model-00011-0.23661-0.95324-0.73508-0.77000.h5\n",
      "67/67 [==============================] - 262s 4s/step - loss: 0.2366 - categorical_accuracy: 0.9532 - val_loss: 0.7351 - val_categorical_accuracy: 0.7700 - lr: 2.5000e-05\n",
      "Epoch 12/20\n",
      "67/67 [==============================] - ETA: 0s - loss: 0.2114 - categorical_accuracy: 0.9683\n",
      "Epoch 12: saving model to model_initCNN2DLSTM_2022-09-1311_26_59.180547/model-00012-0.21141-0.96833-0.79716-0.75000.h5\n",
      "67/67 [==============================] - 261s 4s/step - loss: 0.2114 - categorical_accuracy: 0.9683 - val_loss: 0.7972 - val_categorical_accuracy: 0.7500 - lr: 2.5000e-05\n",
      "Epoch 13/20\n",
      "67/67 [==============================] - ETA: 0s - loss: 0.2116 - categorical_accuracy: 0.9563\n",
      "Epoch 13: saving model to model_initCNN2DLSTM_2022-09-1311_26_59.180547/model-00013-0.21155-0.95626-0.67283-0.74000.h5\n",
      "67/67 [==============================] - 261s 4s/step - loss: 0.2116 - categorical_accuracy: 0.9563 - val_loss: 0.6728 - val_categorical_accuracy: 0.7400 - lr: 2.5000e-05\n",
      "Epoch 14/20\n",
      "67/67 [==============================] - ETA: 0s - loss: 0.1746 - categorical_accuracy: 0.9774\n",
      "Epoch 14: saving model to model_initCNN2DLSTM_2022-09-1311_26_59.180547/model-00014-0.17458-0.97738-0.72374-0.75000.h5\n",
      "67/67 [==============================] - 264s 4s/step - loss: 0.1746 - categorical_accuracy: 0.9774 - val_loss: 0.7237 - val_categorical_accuracy: 0.7500 - lr: 2.5000e-05\n",
      "Epoch 15/20\n",
      "67/67 [==============================] - ETA: 0s - loss: 0.1410 - categorical_accuracy: 0.9955\n",
      "Epoch 15: saving model to model_initCNN2DLSTM_2022-09-1311_26_59.180547/model-00015-0.14099-0.99548-0.73937-0.74000.h5\n",
      "\n",
      "Epoch 15: ReduceLROnPlateau reducing learning rate to 1.249999968422344e-05.\n",
      "67/67 [==============================] - 260s 4s/step - loss: 0.1410 - categorical_accuracy: 0.9955 - val_loss: 0.7394 - val_categorical_accuracy: 0.7400 - lr: 2.5000e-05\n",
      "Epoch 16/20\n",
      "67/67 [==============================] - ETA: 0s - loss: 0.1251 - categorical_accuracy: 0.9864\n",
      "Epoch 16: saving model to model_initCNN2DLSTM_2022-09-1311_26_59.180547/model-00016-0.12509-0.98643-0.52278-0.78000.h5\n",
      "67/67 [==============================] - 262s 4s/step - loss: 0.1251 - categorical_accuracy: 0.9864 - val_loss: 0.5228 - val_categorical_accuracy: 0.7800 - lr: 1.2500e-05\n",
      "Epoch 17/20\n",
      "67/67 [==============================] - ETA: 0s - loss: 0.1266 - categorical_accuracy: 0.9834\n",
      "Epoch 17: saving model to model_initCNN2DLSTM_2022-09-1311_26_59.180547/model-00017-0.12658-0.98341-0.75293-0.73000.h5\n",
      "67/67 [==============================] - 264s 4s/step - loss: 0.1266 - categorical_accuracy: 0.9834 - val_loss: 0.7529 - val_categorical_accuracy: 0.7300 - lr: 1.2500e-05\n",
      "Epoch 18/20\n",
      "67/67 [==============================] - ETA: 0s - loss: 0.1174 - categorical_accuracy: 0.9879\n",
      "Epoch 18: saving model to model_initCNN2DLSTM_2022-09-1311_26_59.180547/model-00018-0.11740-0.98793-0.60750-0.80000.h5\n",
      "\n",
      "Epoch 18: ReduceLROnPlateau reducing learning rate to 6.24999984211172e-06.\n",
      "67/67 [==============================] - 265s 4s/step - loss: 0.1174 - categorical_accuracy: 0.9879 - val_loss: 0.6075 - val_categorical_accuracy: 0.8000 - lr: 1.2500e-05\n",
      "Epoch 19/20\n",
      "67/67 [==============================] - ETA: 0s - loss: 0.0961 - categorical_accuracy: 0.9970\n",
      "Epoch 19: saving model to model_initCNN2DLSTM_2022-09-1311_26_59.180547/model-00019-0.09610-0.99698-0.64026-0.77000.h5\n",
      "67/67 [==============================] - 264s 4s/step - loss: 0.0961 - categorical_accuracy: 0.9970 - val_loss: 0.6403 - val_categorical_accuracy: 0.7700 - lr: 6.2500e-06\n",
      "Epoch 20/20\n",
      "67/67 [==============================] - ETA: 0s - loss: 0.0977 - categorical_accuracy: 0.9879\n",
      "Epoch 20: saving model to model_initCNN2DLSTM_2022-09-1311_26_59.180547/model-00020-0.09772-0.98793-0.64983-0.73000.h5\n"
     ]
    },
    {
     "name": "stdout",
     "output_type": "stream",
     "text": [
      "\n",
      "Epoch 20: ReduceLROnPlateau reducing learning rate to 3.12499992105586e-06.\n",
      "67/67 [==============================] - 265s 4s/step - loss: 0.0977 - categorical_accuracy: 0.9879 - val_loss: 0.6498 - val_categorical_accuracy: 0.7300 - lr: 6.2500e-06\n"
     ]
    }
   ],
   "source": [
    "history = model.fit_generator(train_generator, steps_per_epoch=steps_per_epoch, epochs=num_epochs, verbose=1, \n",
    "                    callbacks=callbacks_list, validation_data=val_generator, \n",
    "                    validation_steps=validation_steps, class_weight=None, workers=1, initial_epoch=0)"
   ]
  },
  {
   "cell_type": "code",
   "execution_count": 23,
   "metadata": {},
   "outputs": [
    {
     "data": {
      "text/plain": [
       "<matplotlib.legend.Legend at 0x7fccfd91f460>"
      ]
     },
     "execution_count": 23,
     "metadata": {},
     "output_type": "execute_result"
    },
    {
     "data": {
      "image/png": "[encoded data removed]",
      "text/plain": [
       "<Figure size 1440x432 with 2 Axes>"
      ]
     },
     "metadata": {
      "needs_background": "light"
     },
     "output_type": "display_data"
    }
   ],
   "source": [
    "plt.figure(figsize=(20,6))\n",
    "ax1 = plt.subplot(121)\n",
    "ax1 = plt.plot(history.history['loss'])\n",
    "ax1 = plt.plot(history.history['val_loss'])\n",
    "plt.title('model loss')\n",
    "plt.ylabel('loss')\n",
    "plt.xlabel('epoch')\n",
    "plt.legend(['train', 'validation'], loc='lower left')\n",
    "ax2 = plt.subplot(122)\n",
    "ax2 = plt.plot(history.history['categorical_accuracy'])\n",
    "ax2 = plt.plot(history.history['val_categorical_accuracy'])\n",
    "plt.title('model accuracy')\n",
    "plt.ylabel('categorical_accuracy')\n",
    "plt.xlabel('epoch')\n",
    "plt.legend(['train', 'validation'], loc='lower left')"
   ]
  },
  {
   "cell_type": "markdown",
   "metadata": {},
   "source": [
    "The model still seems to overfit,  Training Accuracy - 98.79, Validation Accuracy - 73.00"
   ]
  },
  {
   "cell_type": "markdown",
   "metadata": {},
   "source": [
    "CNN 3D"
   ]
  },
  {
   "cell_type": "code",
   "execution_count": 25,
   "metadata": {},
   "outputs": [],
   "source": [
    "from tensorflow.keras.models import Sequential, Model\n",
    "from tensorflow.keras.layers import Dense, GRU, Flatten, TimeDistributed, Flatten, BatchNormalization, Activation, Dropout, LSTM\n",
    "from keras.layers.convolutional import Conv3D, MaxPooling3D, MaxPooling2D, Conv2D\n",
    "from tensorflow.keras.callbacks import ModelCheckpoint, ReduceLROnPlateau\n",
    "from tensorflow.keras import optimizers\n",
    "\n",
    "model = Sequential()\n",
    "\n",
    "model.add(Conv3D(16,(3,3,3),padding = 'same',activation='relu',input_shape = input_shape))\n",
    "model.add(BatchNormalization())\n",
    "model.add(MaxPooling3D((2,2,2)))\n",
    "\n",
    "model.add(Conv3D(32,(3,3,3),padding = 'same',activation='relu'))\n",
    "model.add(BatchNormalization())\n",
    "model.add(MaxPooling3D((2,2,2)))\n",
    "\n",
    "model.add(Conv3D(64,(3,3,3),padding = 'same',activation='relu'))\n",
    "model.add(BatchNormalization())\n",
    "model.add(MaxPooling3D((2,2,2)))\n",
    "\n",
    "model.add(Conv3D(128,(3,3,3),padding = 'same',activation='relu'))\n",
    "model.add(BatchNormalization())\n",
    "model.add(MaxPooling3D((2,2,2)))\n",
    "\n",
    "model.add(Conv3D(256,(3,3,3),padding = 'same',activation='relu'))\n",
    "model.add(BatchNormalization())\n",
    "\n",
    "model.add(Flatten())\n",
    "\n",
    "model.add(Dense(256,activation='relu'))\n",
    "model.add(BatchNormalization())\n",
    "model.add(Dropout(0.25))\n",
    "\n",
    "model.add(Dense(128,activation='relu'))\n",
    "model.add(BatchNormalization())\n",
    "model.add(Dropout(0.25))\n",
    "\n",
    "model.add(Dense(5,activation='softmax'))"
   ]
  },
  {
   "cell_type": "code",
   "execution_count": 26,
   "metadata": {},
   "outputs": [
    {
     "name": "stdout",
     "output_type": "stream",
     "text": [
      "Model: \"sequential_3\"\n",
      "_________________________________________________________________\n",
      " Layer (type)                Output Shape              Param #   \n",
      "=================================================================\n",
      " conv3d_5 (Conv3D)           (None, 30, 120, 120, 16)  1312      \n",
      "                                                                 \n",
      " batch_normalization_17 (Bat  (None, 30, 120, 120, 16)  64       \n",
      " chNormalization)                                                \n",
      "                                                                 \n",
      " max_pooling3d_4 (MaxPooling  (None, 15, 60, 60, 16)   0         \n",
      " 3D)                                                             \n",
      "                                                                 \n",
      " conv3d_6 (Conv3D)           (None, 15, 60, 60, 32)    13856     \n",
      "                                                                 \n",
      " batch_normalization_18 (Bat  (None, 15, 60, 60, 32)   128       \n",
      " chNormalization)                                                \n",
      "                                                                 \n",
      " max_pooling3d_5 (MaxPooling  (None, 7, 30, 30, 32)    0         \n",
      " 3D)                                                             \n",
      "                                                                 \n",
      " conv3d_7 (Conv3D)           (None, 7, 30, 30, 64)     55360     \n",
      "                                                                 \n",
      " batch_normalization_19 (Bat  (None, 7, 30, 30, 64)    256       \n",
      " chNormalization)                                                \n",
      "                                                                 \n",
      " max_pooling3d_6 (MaxPooling  (None, 3, 15, 15, 64)    0         \n",
      " 3D)                                                             \n",
      "                                                                 \n",
      " conv3d_8 (Conv3D)           (None, 3, 15, 15, 128)    221312    \n",
      "                                                                 \n",
      " batch_normalization_20 (Bat  (None, 3, 15, 15, 128)   512       \n",
      " chNormalization)                                                \n",
      "                                                                 \n",
      " max_pooling3d_7 (MaxPooling  (None, 1, 7, 7, 128)     0         \n",
      " 3D)                                                             \n",
      "                                                                 \n",
      " conv3d_9 (Conv3D)           (None, 1, 7, 7, 256)      884992    \n",
      "                                                                 \n",
      " batch_normalization_21 (Bat  (None, 1, 7, 7, 256)     1024      \n",
      " chNormalization)                                                \n",
      "                                                                 \n",
      " flatten_3 (Flatten)         (None, 12544)             0         \n",
      "                                                                 \n",
      " dense_7 (Dense)             (None, 256)               3211520   \n",
      "                                                                 \n",
      " batch_normalization_22 (Bat  (None, 256)              1024      \n",
      " chNormalization)                                                \n",
      "                                                                 \n",
      " dropout_6 (Dropout)         (None, 256)               0         \n",
      "                                                                 \n",
      " dense_8 (Dense)             (None, 128)               32896     \n",
      "                                                                 \n",
      " batch_normalization_23 (Bat  (None, 128)              512       \n",
      " chNormalization)                                                \n",
      "                                                                 \n",
      " dropout_7 (Dropout)         (None, 128)               0         \n",
      "                                                                 \n",
      " dense_9 (Dense)             (None, 5)                 645       \n",
      "                                                                 \n",
      "=================================================================\n",
      "Total params: 4,425,413\n",
      "Trainable params: 4,423,653\n",
      "Non-trainable params: 1,760\n",
      "_________________________________________________________________\n",
      "None\n"
     ]
    }
   ],
   "source": [
    "optimiser = optimizers.Adam(0.0001)\n",
    "model.compile(optimizer=optimiser, loss='categorical_crossentropy', metrics=['categorical_accuracy'])\n",
    "print (model.summary())"
   ]
  },
  {
   "cell_type": "code",
   "execution_count": 27,
   "metadata": {},
   "outputs": [],
   "source": [
    "train_generator = generator(train_path, train_doc, batch_size)\n",
    "val_generator = generator(val_path, val_doc, batch_size)"
   ]
  },
  {
   "cell_type": "code",
   "execution_count": 28,
   "metadata": {},
   "outputs": [
    {
     "name": "stdout",
     "output_type": "stream",
     "text": [
      "WARNING:tensorflow:`period` argument is deprecated. Please use `save_freq` to specify the frequency in number of batches seen.\n"
     ]
    }
   ],
   "source": [
    "model_name = 'model_initCNN3D' + '_' + str(curr_dt_time).replace(' ','').replace(':','_') + '/'\n",
    "    \n",
    "if not os.path.exists(model_name):\n",
    "    os.mkdir(model_name)\n",
    "        \n",
    "filepath = model_name + 'model-{epoch:05d}-{loss:.5f}-{categorical_accuracy:.5f}-{val_loss:.5f}-{val_categorical_accuracy:.5f}.h5'\n",
    "\n",
    "checkpoint = ModelCheckpoint(filepath, monitor='val_loss', verbose=1, save_best_only=False, save_weights_only=False, mode='auto', period=1)\n",
    "\n",
    "LR = ReduceLROnPlateau(monitor='val_loss',factor=0.5,patience=2,cooldown=1,verbose=1)\n",
    "callbacks_list = [checkpoint, LR]"
   ]
  },
  {
   "cell_type": "code",
   "execution_count": 29,
   "metadata": {},
   "outputs": [],
   "source": [
    "if (num_train_sequences%batch_size) == 0:\n",
    "    steps_per_epoch = int(num_train_sequences/batch_size)\n",
    "else:\n",
    "    steps_per_epoch = (num_train_sequences//batch_size) + 1\n",
    "\n",
    "if (num_val_sequences%batch_size) == 0:\n",
    "    validation_steps = int(num_val_sequences/batch_size)\n",
    "else:\n",
    "    validation_steps = (num_val_sequences//batch_size) + 1"
   ]
  },
  {
   "cell_type": "code",
   "execution_count": 30,
   "metadata": {},
   "outputs": [
    {
     "name": "stdout",
     "output_type": "stream",
     "text": [
      "Source path =  /home/arjun/Downloads/Project_data/train ; batch size = 10\n",
      "Epoch 1/20\n",
      "67/67 [==============================] - ETA: 0s - loss: 1.6946 - categorical_accuracy: 0.4027Source path =  /home/arjun/Downloads/Project_data/val ; batch size = 10\n",
      "\n",
      "Epoch 1: saving model to model_initCNN3D_2022-09-1311_26_59.180547/model-00001-1.69463-0.40271-2.08704-0.16000.h5\n",
      "67/67 [==============================] - 690s 10s/step - loss: 1.6946 - categorical_accuracy: 0.4027 - val_loss: 2.0870 - val_categorical_accuracy: 0.1600 - lr: 1.0000e-04\n",
      "Epoch 2/20\n",
      "67/67 [==============================] - ETA: 0s - loss: 0.9207 - categorical_accuracy: 0.6516 \n",
      "Epoch 2: saving model to model_initCNN3D_2022-09-1311_26_59.180547/model-00002-0.92069-0.65158-3.33535-0.19000.h5\n",
      "67/67 [==============================] - 691s 10s/step - loss: 0.9207 - categorical_accuracy: 0.6516 - val_loss: 3.3353 - val_categorical_accuracy: 0.1900 - lr: 1.0000e-04\n",
      "Epoch 3/20\n",
      "67/67 [==============================] - ETA: 0s - loss: 0.6957 - categorical_accuracy: 0.7240\n",
      "Epoch 3: saving model to model_initCNN3D_2022-09-1311_26_59.180547/model-00003-0.69569-0.72398-5.11322-0.19000.h5\n",
      "\n",
      "Epoch 3: ReduceLROnPlateau reducing learning rate to 4.999999873689376e-05.\n",
      "67/67 [==============================] - 681s 10s/step - loss: 0.6957 - categorical_accuracy: 0.7240 - val_loss: 5.1132 - val_categorical_accuracy: 0.1900 - lr: 1.0000e-04\n",
      "Epoch 4/20\n",
      "67/67 [==============================] - ETA: 0s - loss: 0.5239 - categorical_accuracy: 0.8024\n",
      "Epoch 4: saving model to model_initCNN3D_2022-09-1311_26_59.180547/model-00004-0.52394-0.80241-4.87192-0.27000.h5\n",
      "67/67 [==============================] - 677s 10s/step - loss: 0.5239 - categorical_accuracy: 0.8024 - val_loss: 4.8719 - val_categorical_accuracy: 0.2700 - lr: 5.0000e-05\n",
      "Epoch 5/20\n",
      "67/67 [==============================] - ETA: 0s - loss: 0.4140 - categorical_accuracy: 0.8552\n",
      "Epoch 5: saving model to model_initCNN3D_2022-09-1311_26_59.180547/model-00005-0.41399-0.85520-4.04362-0.29000.h5\n",
      "\n",
      "Epoch 5: ReduceLROnPlateau reducing learning rate to 2.499999936844688e-05.\n",
      "67/67 [==============================] - 679s 10s/step - loss: 0.4140 - categorical_accuracy: 0.8552 - val_loss: 4.0436 - val_categorical_accuracy: 0.2900 - lr: 5.0000e-05\n",
      "Epoch 6/20\n",
      "67/67 [==============================] - ETA: 0s - loss: 0.3538 - categorical_accuracy: 0.8748 \n",
      "Epoch 6: saving model to model_initCNN3D_2022-09-1311_26_59.180547/model-00006-0.35378-0.87481-3.93958-0.22000.h5\n",
      "67/67 [==============================] - 729s 11s/step - loss: 0.3538 - categorical_accuracy: 0.8748 - val_loss: 3.9396 - val_categorical_accuracy: 0.2200 - lr: 2.5000e-05\n",
      "Epoch 7/20\n",
      "67/67 [==============================] - ETA: 0s - loss: 0.3286 - categorical_accuracy: 0.8839 \n",
      "Epoch 7: saving model to model_initCNN3D_2022-09-1311_26_59.180547/model-00007-0.32863-0.88386-2.82077-0.36000.h5\n",
      "\n",
      "Epoch 7: ReduceLROnPlateau reducing learning rate to 1.249999968422344e-05.\n",
      "67/67 [==============================] - 761s 11s/step - loss: 0.3286 - categorical_accuracy: 0.8839 - val_loss: 2.8208 - val_categorical_accuracy: 0.3600 - lr: 2.5000e-05\n",
      "Epoch 8/20\n",
      "67/67 [==============================] - ETA: 0s - loss: 0.2506 - categorical_accuracy: 0.9186 \n",
      "Epoch 8: saving model to model_initCNN3D_2022-09-1311_26_59.180547/model-00008-0.25058-0.91855-1.90543-0.42000.h5\n",
      "67/67 [==============================] - 766s 11s/step - loss: 0.2506 - categorical_accuracy: 0.9186 - val_loss: 1.9054 - val_categorical_accuracy: 0.4200 - lr: 1.2500e-05\n",
      "Epoch 9/20\n",
      "67/67 [==============================] - ETA: 0s - loss: 0.2235 - categorical_accuracy: 0.9351  \n",
      "Epoch 9: saving model to model_initCNN3D_2022-09-1311_26_59.180547/model-00009-0.22353-0.93514-1.36783-0.55000.h5\n",
      "67/67 [==============================] - 6203s 94s/step - loss: 0.2235 - categorical_accuracy: 0.9351 - val_loss: 1.3678 - val_categorical_accuracy: 0.5500 - lr: 1.2500e-05\n",
      "Epoch 10/20\n",
      "67/67 [==============================] - ETA: 0s - loss: 0.2474 - categorical_accuracy: 0.9170 \n",
      "Epoch 10: saving model to model_initCNN3D_2022-09-1311_26_59.180547/model-00010-0.24736-0.91704-1.12322-0.64000.h5\n",
      "67/67 [==============================] - 715s 11s/step - loss: 0.2474 - categorical_accuracy: 0.9170 - val_loss: 1.1232 - val_categorical_accuracy: 0.6400 - lr: 1.2500e-05\n",
      "Epoch 11/20\n",
      "67/67 [==============================] - ETA: 0s - loss: 0.2596 - categorical_accuracy: 0.9291 \n",
      "Epoch 11: saving model to model_initCNN3D_2022-09-1311_26_59.180547/model-00011-0.25962-0.92911-0.93397-0.65000.h5\n",
      "67/67 [==============================] - 730s 11s/step - loss: 0.2596 - categorical_accuracy: 0.9291 - val_loss: 0.9340 - val_categorical_accuracy: 0.6500 - lr: 1.2500e-05\n",
      "Epoch 12/20\n",
      "67/67 [==============================] - ETA: 0s - loss: 0.2187 - categorical_accuracy: 0.9412 \n",
      "Epoch 12: saving model to model_initCNN3D_2022-09-1311_26_59.180547/model-00012-0.21874-0.94118-0.83259-0.68000.h5\n",
      "67/67 [==============================] - 735s 11s/step - loss: 0.2187 - categorical_accuracy: 0.9412 - val_loss: 0.8326 - val_categorical_accuracy: 0.6800 - lr: 1.2500e-05\n",
      "Epoch 13/20\n",
      "67/67 [==============================] - ETA: 0s - loss: 0.2000 - categorical_accuracy: 0.9427 \n",
      "Epoch 13: saving model to model_initCNN3D_2022-09-1311_26_59.180547/model-00013-0.20002-0.94268-0.92751-0.62000.h5\n",
      "67/67 [==============================] - 737s 11s/step - loss: 0.2000 - categorical_accuracy: 0.9427 - val_loss: 0.9275 - val_categorical_accuracy: 0.6200 - lr: 1.2500e-05\n",
      "Epoch 14/20\n",
      "67/67 [==============================] - ETA: 0s - loss: 0.2137 - categorical_accuracy: 0.9246 \n",
      "Epoch 14: saving model to model_initCNN3D_2022-09-1311_26_59.180547/model-00014-0.21365-0.92459-0.85143-0.69000.h5\n",
      "\n",
      "Epoch 14: ReduceLROnPlateau reducing learning rate to 6.24999984211172e-06.\n",
      "67/67 [==============================] - 739s 11s/step - loss: 0.2137 - categorical_accuracy: 0.9246 - val_loss: 0.8514 - val_categorical_accuracy: 0.6900 - lr: 1.2500e-05\n",
      "Epoch 15/20\n",
      "67/67 [==============================] - ETA: 0s - loss: 0.2231 - categorical_accuracy: 0.9382 \n",
      "Epoch 15: saving model to model_initCNN3D_2022-09-1311_26_59.180547/model-00015-0.22306-0.93816-0.79944-0.68000.h5\n",
      "67/67 [==============================] - 738s 11s/step - loss: 0.2231 - categorical_accuracy: 0.9382 - val_loss: 0.7994 - val_categorical_accuracy: 0.6800 - lr: 6.2500e-06\n",
      "Epoch 16/20\n",
      "67/67 [==============================] - ETA: 0s - loss: 0.2041 - categorical_accuracy: 0.9351 \n",
      "Epoch 16: saving model to model_initCNN3D_2022-09-1311_26_59.180547/model-00016-0.20413-0.93514-0.90364-0.70000.h5\n",
      "67/67 [==============================] - 735s 11s/step - loss: 0.2041 - categorical_accuracy: 0.9351 - val_loss: 0.9036 - val_categorical_accuracy: 0.7000 - lr: 6.2500e-06\n",
      "Epoch 17/20\n",
      "67/67 [==============================] - ETA: 0s - loss: 0.1685 - categorical_accuracy: 0.9563 \n",
      "Epoch 17: saving model to model_initCNN3D_2022-09-1311_26_59.180547/model-00017-0.16846-0.95626-0.69406-0.73000.h5\n",
      "67/67 [==============================] - 737s 11s/step - loss: 0.1685 - categorical_accuracy: 0.9563 - val_loss: 0.6941 - val_categorical_accuracy: 0.7300 - lr: 6.2500e-06\n",
      "Epoch 18/20\n",
      "67/67 [==============================] - ETA: 0s - loss: 0.1509 - categorical_accuracy: 0.9578 \n",
      "Epoch 18: saving model to model_initCNN3D_2022-09-1311_26_59.180547/model-00018-0.15085-0.95777-0.90504-0.66000.h5\n",
      "67/67 [==============================] - 737s 11s/step - loss: 0.1509 - categorical_accuracy: 0.9578 - val_loss: 0.9050 - val_categorical_accuracy: 0.6600 - lr: 6.2500e-06\n",
      "Epoch 19/20\n",
      "67/67 [==============================] - ETA: 0s - loss: 0.1670 - categorical_accuracy: 0.9548 \n",
      "Epoch 19: saving model to model_initCNN3D_2022-09-1311_26_59.180547/model-00019-0.16700-0.95475-0.77011-0.71000.h5\n",
      "\n",
      "Epoch 19: ReduceLROnPlateau reducing learning rate to 3.12499992105586e-06.\n",
      "67/67 [==============================] - 737s 11s/step - loss: 0.1670 - categorical_accuracy: 0.9548 - val_loss: 0.7701 - val_categorical_accuracy: 0.7100 - lr: 6.2500e-06\n",
      "Epoch 20/20\n",
      "67/67 [==============================] - ETA: 0s - loss: 0.1908 - categorical_accuracy: 0.9532 \n",
      "Epoch 20: saving model to model_initCNN3D_2022-09-1311_26_59.180547/model-00020-0.19078-0.95324-0.77658-0.71000.h5\n"
     ]
    },
    {
     "name": "stdout",
     "output_type": "stream",
     "text": [
      "\b\b\b\b\b\b\b\b\b\b\b\b\b\b\b\b\b\b\b\b\b\b\b\b\b\b\b\b\b\b\b\b\b\b\b\b\b\b\b\b\b\b\b\b\b\b\b\b\b\b\b\b\b\b\b\b\b\b\b\b\b\b\b\b\b\b\b\b\b\b\b\b\b\b\b\b\b\b\b\b\b\b\b\b\b\b\b\b\b\b\b\b\b\b\r",
      "67/67 [==============================] - 736s 11s/step - loss: 0.1908 - categorical_accuracy: 0.9532 - val_loss: 0.7766 - val_categorical_accuracy: 0.7100 - lr: 3.1250e-06\n"
     ]
    }
   ],
   "source": [
    "history = model.fit_generator(train_generator, steps_per_epoch=steps_per_epoch, epochs=num_epochs, verbose=1, \n",
    "                    callbacks=callbacks_list, validation_data=val_generator, \n",
    "                    validation_steps=validation_steps, class_weight=None, workers=1, initial_epoch=0)"
   ]
  },
  {
   "cell_type": "code",
   "execution_count": 31,
   "metadata": {},
   "outputs": [
    {
     "data": {
      "text/plain": [
       "<matplotlib.legend.Legend at 0x7fcd243360d0>"
      ]
     },
     "execution_count": 31,
     "metadata": {},
     "output_type": "execute_result"
    },
    {
     "data": {
      "image/png": "[encoded data removed]",
      "text/plain": [
       "<Figure size 1440x432 with 2 Axes>"
      ]
     },
     "metadata": {
      "needs_background": "light"
     },
     "output_type": "display_data"
    }
   ],
   "source": [
    "plt.figure(figsize=(20,6))\n",
    "ax1 = plt.subplot(121)\n",
    "ax1 = plt.plot(history.history['loss'])\n",
    "ax1 = plt.plot(history.history['val_loss'])\n",
    "plt.title('model loss')\n",
    "plt.ylabel('loss')\n",
    "plt.xlabel('epoch')\n",
    "plt.legend(['train', 'validation'], loc='lower left')\n",
    "ax2 = plt.subplot(122)\n",
    "ax2 = plt.plot(history.history['categorical_accuracy'])\n",
    "ax2 = plt.plot(history.history['val_categorical_accuracy'])\n",
    "plt.title('model accuracy')\n",
    "plt.ylabel('categorical_accuracy')\n",
    "plt.xlabel('epoch')\n",
    "plt.legend(['train', 'validation'], loc='lower left')"
   ]
  },
  {
   "cell_type": "markdown",
   "metadata": {},
   "source": [
    "# This model seem to overfit too.\n",
    "# Training Accuracy - 95.32\n",
    "# Validation Accuracy - 71.00"
   ]
  },
  {
   "cell_type": "markdown",
   "metadata": {},
   "source": [
    "# CNN3D + l2 Regularizers"
   ]
  },
  {
   "cell_type": "code",
   "execution_count": 34,
   "metadata": {},
   "outputs": [],
   "source": [
    "from tensorflow.keras.models import Sequential, Model\n",
    "from tensorflow.keras.layers import Dense, GRU, Flatten, TimeDistributed, Flatten, BatchNormalization, Activation, Dropout, LSTM\n",
    "from keras.layers.convolutional import Conv3D, MaxPooling3D, MaxPooling2D, Conv2D\n",
    "from tensorflow.keras.callbacks import ModelCheckpoint, ReduceLROnPlateau\n",
    "from tensorflow.keras import optimizers\n",
    "from keras.regularizers import l2\n",
    "\n",
    "model = Sequential()\n",
    "\n",
    "model.add(Conv3D(16,(3,3,3),padding = 'same',activation='relu',input_shape = input_shape))\n",
    "model.add(BatchNormalization())\n",
    "model.add(MaxPooling3D((2,2,2)))\n",
    "\n",
    "model.add(Conv3D(32,(3,3,3),padding = 'same',activation='relu'))\n",
    "model.add(BatchNormalization())\n",
    "model.add(MaxPooling3D((2,2,2)))\n",
    "\n",
    "model.add(Conv3D(64,(3,3,3),padding = 'same',activation='relu'))\n",
    "model.add(BatchNormalization())\n",
    "model.add(MaxPooling3D((2,2,2)))\n",
    "\n",
    "model.add(Conv3D(128,(3,3,3),padding = 'same',activation='relu'))\n",
    "model.add(BatchNormalization())\n",
    "model.add(MaxPooling3D((2,2,2)))\n",
    "\n",
    "model.add(Flatten())\n",
    "\n",
    "model.add(Dense(256,activation='relu', kernel_regularizer = l2(0.01)))\n",
    "model.add(BatchNormalization())\n",
    "model.add(Dropout(0.25))\n",
    "\n",
    "model.add(Dense(128,activation='relu'))\n",
    "model.add(BatchNormalization())\n",
    "model.add(Dropout(0.25))\n",
    "\n",
    "model.add(Dense(5,activation='softmax'))"
   ]
  },
  {
   "cell_type": "code",
   "execution_count": 35,
   "metadata": {},
   "outputs": [
    {
     "name": "stdout",
     "output_type": "stream",
     "text": [
      "Model: \"sequential_4\"\n",
      "_________________________________________________________________\n",
      " Layer (type)                Output Shape              Param #   \n",
      "=================================================================\n",
      " conv3d_10 (Conv3D)          (None, 30, 120, 120, 16)  1312      \n",
      "                                                                 \n",
      " batch_normalization_24 (Bat  (None, 30, 120, 120, 16)  64       \n",
      " chNormalization)                                                \n",
      "                                                                 \n",
      " max_pooling3d_8 (MaxPooling  (None, 15, 60, 60, 16)   0         \n",
      " 3D)                                                             \n",
      "                                                                 \n",
      " conv3d_11 (Conv3D)          (None, 15, 60, 60, 32)    13856     \n",
      "                                                                 \n",
      " batch_normalization_25 (Bat  (None, 15, 60, 60, 32)   128       \n",
      " chNormalization)                                                \n",
      "                                                                 \n",
      " max_pooling3d_9 (MaxPooling  (None, 7, 30, 30, 32)    0         \n",
      " 3D)                                                             \n",
      "                                                                 \n",
      " conv3d_12 (Conv3D)          (None, 7, 30, 30, 64)     55360     \n",
      "                                                                 \n",
      " batch_normalization_26 (Bat  (None, 7, 30, 30, 64)    256       \n",
      " chNormalization)                                                \n",
      "                                                                 \n",
      " max_pooling3d_10 (MaxPoolin  (None, 3, 15, 15, 64)    0         \n",
      " g3D)                                                            \n",
      "                                                                 \n",
      " conv3d_13 (Conv3D)          (None, 3, 15, 15, 128)    221312    \n",
      "                                                                 \n",
      " batch_normalization_27 (Bat  (None, 3, 15, 15, 128)   512       \n",
      " chNormalization)                                                \n",
      "                                                                 \n",
      " max_pooling3d_11 (MaxPoolin  (None, 1, 7, 7, 128)     0         \n",
      " g3D)                                                            \n",
      "                                                                 \n",
      " flatten_4 (Flatten)         (None, 6272)              0         \n",
      "                                                                 \n",
      " dense_10 (Dense)            (None, 256)               1605888   \n",
      "                                                                 \n",
      " batch_normalization_28 (Bat  (None, 256)              1024      \n",
      " chNormalization)                                                \n",
      "                                                                 \n",
      " dropout_8 (Dropout)         (None, 256)               0         \n",
      "                                                                 \n",
      " dense_11 (Dense)            (None, 128)               32896     \n",
      "                                                                 \n",
      " batch_normalization_29 (Bat  (None, 128)              512       \n",
      " chNormalization)                                                \n",
      "                                                                 \n",
      " dropout_9 (Dropout)         (None, 128)               0         \n",
      "                                                                 \n",
      " dense_12 (Dense)            (None, 5)                 645       \n",
      "                                                                 \n",
      "=================================================================\n",
      "Total params: 1,933,765\n",
      "Trainable params: 1,932,517\n",
      "Non-trainable params: 1,248\n",
      "_________________________________________________________________\n",
      "None\n"
     ]
    }
   ],
   "source": [
    "optimiser = optimizers.Adam(0.0001)\n",
    "model.compile(optimizer=optimiser, loss='categorical_crossentropy', metrics=['categorical_accuracy'])\n",
    "print (model.summary())"
   ]
  },
  {
   "cell_type": "code",
   "execution_count": 36,
   "metadata": {},
   "outputs": [],
   "source": [
    "train_generator = generator(train_path, train_doc, batch_size)\n",
    "val_generator = generator(val_path, val_doc, batch_size)"
   ]
  },
  {
   "cell_type": "code",
   "execution_count": 37,
   "metadata": {},
   "outputs": [
    {
     "name": "stdout",
     "output_type": "stream",
     "text": [
      "WARNING:tensorflow:`period` argument is deprecated. Please use `save_freq` to specify the frequency in number of batches seen.\n"
     ]
    }
   ],
   "source": [
    "model_name = 'model_initCNN3DL2' + '_' + str(curr_dt_time).replace(' ','').replace(':','_') + '/'\n",
    "    \n",
    "if not os.path.exists(model_name):\n",
    "    os.mkdir(model_name)\n",
    "        \n",
    "filepath = model_name + 'model-{epoch:05d}-{loss:.5f}-{categorical_accuracy:.5f}-{val_loss:.5f}-{val_categorical_accuracy:.5f}.h5'\n",
    "\n",
    "checkpoint = ModelCheckpoint(filepath, monitor='val_loss', verbose=1, save_best_only=False, save_weights_only=False, mode='auto', period=1)\n",
    "\n",
    "LR = ReduceLROnPlateau(monitor='val_loss',factor=0.5,patience=2,cooldown=1,verbose=1)\n",
    "callbacks_list = [checkpoint, LR]"
   ]
  },
  {
   "cell_type": "code",
   "execution_count": 38,
   "metadata": {},
   "outputs": [],
   "source": [
    "if (num_train_sequences%batch_size) == 0:\n",
    "    steps_per_epoch = int(num_train_sequences/batch_size)\n",
    "else:\n",
    "    steps_per_epoch = (num_train_sequences//batch_size) + 1\n",
    "\n",
    "if (num_val_sequences%batch_size) == 0:\n",
    "    validation_steps = int(num_val_sequences/batch_size)\n",
    "else:\n",
    "    validation_steps = (num_val_sequences//batch_size) + 1"
   ]
  },
  {
   "cell_type": "code",
   "execution_count": 39,
   "metadata": {},
   "outputs": [
    {
     "name": "stdout",
     "output_type": "stream",
     "text": [
      "Source path =  /home/arjun/Downloads/Project_data/train ; batch size = 10\n",
      "Epoch 1/20\n",
      "67/67 [==============================] - ETA: 0s - loss: 6.6188 - categorical_accuracy: 0.3409 Source path =  /home/arjun/Downloads/Project_data/val ; batch size = 10\n",
      "\n",
      "Epoch 1: saving model to model_initCNN3DL2_2022-09-1311_26_59.180547/model-00001-6.61879-0.34087-6.93798-0.27000.h5\n",
      "67/67 [==============================] - 721s 11s/step - loss: 6.6188 - categorical_accuracy: 0.3409 - val_loss: 6.9380 - val_categorical_accuracy: 0.2700 - lr: 1.0000e-04\n",
      "Epoch 2/20\n",
      "67/67 [==============================] - ETA: 0s - loss: 5.9810 - categorical_accuracy: 0.5309 \n",
      "Epoch 2: saving model to model_initCNN3DL2_2022-09-1311_26_59.180547/model-00002-5.98104-0.53092-7.94884-0.14000.h5\n",
      "67/67 [==============================] - 721s 11s/step - loss: 5.9810 - categorical_accuracy: 0.5309 - val_loss: 7.9488 - val_categorical_accuracy: 0.1400 - lr: 1.0000e-04\n",
      "Epoch 3/20\n",
      "67/67 [==============================] - ETA: 0s - loss: 5.7430 - categorical_accuracy: 0.6003 \n",
      "Epoch 3: saving model to model_initCNN3DL2_2022-09-1311_26_59.180547/model-00003-5.74296-0.60030-8.81622-0.20000.h5\n",
      "\n",
      "Epoch 3: ReduceLROnPlateau reducing learning rate to 4.999999873689376e-05.\n",
      "67/67 [==============================] - 708s 11s/step - loss: 5.7430 - categorical_accuracy: 0.6003 - val_loss: 8.8162 - val_categorical_accuracy: 0.2000 - lr: 1.0000e-04\n",
      "Epoch 4/20\n",
      "67/67 [==============================] - ETA: 0s - loss: 5.4852 - categorical_accuracy: 0.7134 \n",
      "Epoch 4: saving model to model_initCNN3DL2_2022-09-1311_26_59.180547/model-00004-5.48521-0.71342-8.90297-0.18000.h5\n",
      "67/67 [==============================] - 695s 10s/step - loss: 5.4852 - categorical_accuracy: 0.7134 - val_loss: 8.9030 - val_categorical_accuracy: 0.1800 - lr: 5.0000e-05\n",
      "Epoch 5/20\n",
      "67/67 [==============================] - ETA: 0s - loss: 5.3418 - categorical_accuracy: 0.7406\n",
      "Epoch 5: saving model to model_initCNN3DL2_2022-09-1311_26_59.180547/model-00005-5.34183-0.74057-8.77304-0.15000.h5\n",
      "\n",
      "Epoch 5: ReduceLROnPlateau reducing learning rate to 2.499999936844688e-05.\n",
      "67/67 [==============================] - 689s 10s/step - loss: 5.3418 - categorical_accuracy: 0.7406 - val_loss: 8.7730 - val_categorical_accuracy: 0.1500 - lr: 5.0000e-05\n",
      "Epoch 6/20\n",
      "67/67 [==============================] - ETA: 0s - loss: 5.2271 - categorical_accuracy: 0.7858 \n",
      "Epoch 6: saving model to model_initCNN3DL2_2022-09-1311_26_59.180547/model-00006-5.22713-0.78582-7.79171-0.22000.h5\n",
      "67/67 [==============================] - 694s 10s/step - loss: 5.2271 - categorical_accuracy: 0.7858 - val_loss: 7.7917 - val_categorical_accuracy: 0.2200 - lr: 2.5000e-05\n",
      "Epoch 7/20\n",
      "67/67 [==============================] - ETA: 0s - loss: 5.2418 - categorical_accuracy: 0.7783 \n",
      "Epoch 7: saving model to model_initCNN3DL2_2022-09-1311_26_59.180547/model-00007-5.24176-0.77828-6.88617-0.29000.h5\n",
      "67/67 [==============================] - 691s 10s/step - loss: 5.2418 - categorical_accuracy: 0.7783 - val_loss: 6.8862 - val_categorical_accuracy: 0.2900 - lr: 2.5000e-05\n",
      "Epoch 8/20\n",
      "67/67 [==============================] - ETA: 0s - loss: 5.1400 - categorical_accuracy: 0.8024 \n",
      "Epoch 8: saving model to model_initCNN3DL2_2022-09-1311_26_59.180547/model-00008-5.13997-0.80241-6.26350-0.39000.h5\n",
      "67/67 [==============================] - 691s 10s/step - loss: 5.1400 - categorical_accuracy: 0.8024 - val_loss: 6.2635 - val_categorical_accuracy: 0.3900 - lr: 2.5000e-05\n",
      "Epoch 9/20\n",
      "67/67 [==============================] - ETA: 0s - loss: 5.1271 - categorical_accuracy: 0.8160 \n",
      "Epoch 9: saving model to model_initCNN3DL2_2022-09-1311_26_59.180547/model-00009-5.12706-0.81599-5.82480-0.58000.h5\n",
      "67/67 [==============================] - 693s 10s/step - loss: 5.1271 - categorical_accuracy: 0.8160 - val_loss: 5.8248 - val_categorical_accuracy: 0.5800 - lr: 2.5000e-05\n",
      "Epoch 10/20\n",
      "67/67 [==============================] - ETA: 0s - loss: 5.1237 - categorical_accuracy: 0.8039 \n",
      "Epoch 10: saving model to model_initCNN3DL2_2022-09-1311_26_59.180547/model-00010-5.12375-0.80392-5.66647-0.63000.h5\n",
      "67/67 [==============================] - 693s 10s/step - loss: 5.1237 - categorical_accuracy: 0.8039 - val_loss: 5.6665 - val_categorical_accuracy: 0.6300 - lr: 2.5000e-05\n",
      "Epoch 11/20\n",
      "67/67 [==============================] - ETA: 0s - loss: 5.1064 - categorical_accuracy: 0.8175 \n",
      "Epoch 11: saving model to model_initCNN3DL2_2022-09-1311_26_59.180547/model-00011-5.10645-0.81750-5.45293-0.71000.h5\n",
      "67/67 [==============================] - 692s 10s/step - loss: 5.1064 - categorical_accuracy: 0.8175 - val_loss: 5.4529 - val_categorical_accuracy: 0.7100 - lr: 2.5000e-05\n",
      "Epoch 12/20\n",
      "67/67 [==============================] - ETA: 0s - loss: 4.9788 - categorical_accuracy: 0.8597 \n",
      "Epoch 12: saving model to model_initCNN3DL2_2022-09-1311_26_59.180547/model-00012-4.97884-0.85973-5.42069-0.70000.h5\n",
      "67/67 [==============================] - 693s 10s/step - loss: 4.9788 - categorical_accuracy: 0.8597 - val_loss: 5.4207 - val_categorical_accuracy: 0.7000 - lr: 2.5000e-05\n",
      "Epoch 13/20\n",
      "67/67 [==============================] - ETA: 0s - loss: 4.9313 - categorical_accuracy: 0.8808 \n",
      "Epoch 13: saving model to model_initCNN3DL2_2022-09-1311_26_59.180547/model-00013-4.93129-0.88084-5.37041-0.73000.h5\n",
      "67/67 [==============================] - 693s 10s/step - loss: 4.9313 - categorical_accuracy: 0.8808 - val_loss: 5.3704 - val_categorical_accuracy: 0.7300 - lr: 2.5000e-05\n",
      "Epoch 14/20\n",
      "67/67 [==============================] - ETA: 0s - loss: 4.9112 - categorical_accuracy: 0.8763 \n",
      "Epoch 14: saving model to model_initCNN3DL2_2022-09-1311_26_59.180547/model-00014-4.91125-0.87632-5.30651-0.74000.h5\n",
      "67/67 [==============================] - 694s 10s/step - loss: 4.9112 - categorical_accuracy: 0.8763 - val_loss: 5.3065 - val_categorical_accuracy: 0.7400 - lr: 2.5000e-05\n",
      "Epoch 15/20\n",
      "67/67 [==============================] - ETA: 0s - loss: 4.8451 - categorical_accuracy: 0.8824 \n",
      "Epoch 15: saving model to model_initCNN3DL2_2022-09-1311_26_59.180547/model-00015-4.84509-0.88235-5.12915-0.77000.h5\n",
      "67/67 [==============================] - 697s 10s/step - loss: 4.8451 - categorical_accuracy: 0.8824 - val_loss: 5.1292 - val_categorical_accuracy: 0.7700 - lr: 2.5000e-05\n",
      "Epoch 16/20\n",
      "67/67 [==============================] - ETA: 0s - loss: 4.8572 - categorical_accuracy: 0.8824 \n",
      "Epoch 16: saving model to model_initCNN3DL2_2022-09-1311_26_59.180547/model-00016-4.85723-0.88235-5.40263-0.68000.h5\n",
      "67/67 [==============================] - 696s 10s/step - loss: 4.8572 - categorical_accuracy: 0.8824 - val_loss: 5.4026 - val_categorical_accuracy: 0.6800 - lr: 2.5000e-05\n",
      "Epoch 17/20\n",
      "67/67 [==============================] - ETA: 0s - loss: 4.7929 - categorical_accuracy: 0.8944 \n",
      "Epoch 17: saving model to model_initCNN3DL2_2022-09-1311_26_59.180547/model-00017-4.79294-0.89442-5.18853-0.76000.h5\n",
      "\n",
      "Epoch 17: ReduceLROnPlateau reducing learning rate to 1.249999968422344e-05.\n",
      "67/67 [==============================] - 696s 10s/step - loss: 4.7929 - categorical_accuracy: 0.8944 - val_loss: 5.1885 - val_categorical_accuracy: 0.7600 - lr: 2.5000e-05\n",
      "Epoch 18/20\n",
      "67/67 [==============================] - ETA: 0s - loss: 4.7838 - categorical_accuracy: 0.8839 \n",
      "Epoch 18: saving model to model_initCNN3DL2_2022-09-1311_26_59.180547/model-00018-4.78376-0.88386-5.32639-0.66000.h5\n",
      "67/67 [==============================] - 696s 10s/step - loss: 4.7838 - categorical_accuracy: 0.8839 - val_loss: 5.3264 - val_categorical_accuracy: 0.6600 - lr: 1.2500e-05\n",
      "Epoch 19/20\n",
      "67/67 [==============================] - ETA: 0s - loss: 4.7544 - categorical_accuracy: 0.9035 \n",
      "Epoch 19: saving model to model_initCNN3DL2_2022-09-1311_26_59.180547/model-00019-4.75442-0.90347-5.28218-0.70000.h5\n",
      "\n",
      "Epoch 19: ReduceLROnPlateau reducing learning rate to 6.24999984211172e-06.\n",
      "67/67 [==============================] - 696s 10s/step - loss: 4.7544 - categorical_accuracy: 0.9035 - val_loss: 5.2822 - val_categorical_accuracy: 0.7000 - lr: 1.2500e-05\n",
      "Epoch 20/20\n",
      "67/67 [==============================] - ETA: 0s - loss: 4.6951 - categorical_accuracy: 0.9276 \n",
      "Epoch 20: saving model to model_initCNN3DL2_2022-09-1311_26_59.180547/model-00020-4.69513-0.92760-5.25796-0.69000.h5\n"
     ]
    },
    {
     "name": "stdout",
     "output_type": "stream",
     "text": [
      "\b\b\b\b\b\b\b\b\b\b\b\b\b\b\b\b\b\b\b\b\b\b\b\b\b\b\b\b\b\b\b\b\b\b\b\b\b\b\b\b\b\b\b\b\b\b\b\b\b\b\b\b\b\b\b\b\b\b\b\b\b\b\b\b\b\b\b\b\b\b\b\b\b\b\b\b\b\b\b\b\b\b\b\b\b\b\b\b\b\b\b\b\b\b\r",
      "67/67 [==============================] - 697s 10s/step - loss: 4.6951 - categorical_accuracy: 0.9276 - val_loss: 5.2580 - val_categorical_accuracy: 0.6900 - lr: 6.2500e-06\n"
     ]
    }
   ],
   "source": [
    "history = model.fit_generator(train_generator, steps_per_epoch=steps_per_epoch, epochs=num_epochs, verbose=1, \n",
    "                    callbacks=callbacks_list, validation_data=val_generator, \n",
    "                    validation_steps=validation_steps, class_weight=None, workers=1, initial_epoch=0)"
   ]
  },
  {
   "cell_type": "code",
   "execution_count": 40,
   "metadata": {},
   "outputs": [
    {
     "data": {
      "text/plain": [
       "<matplotlib.legend.Legend at 0x7fcd2439a040>"
      ]
     },
     "execution_count": 40,
     "metadata": {},
     "output_type": "execute_result"
    },
    {
     "data": {
      "image/png": "[encoded data removed]",
      "text/plain": [
       "<Figure size 1440x432 with 2 Axes>"
      ]
     },
     "metadata": {
      "needs_background": "light"
     },
     "output_type": "display_data"
    }
   ],
   "source": [
    "plt.figure(figsize=(20,6))\n",
    "ax1 = plt.subplot(121)\n",
    "ax1 = plt.plot(history.history['loss'])\n",
    "ax1 = plt.plot(history.history['val_loss'])\n",
    "plt.title('model loss')\n",
    "plt.ylabel('loss')\n",
    "plt.xlabel('epoch')\n",
    "plt.legend(['train', 'validation'], loc='lower left')\n",
    "ax2 = plt.subplot(122)\n",
    "ax2 = plt.plot(history.history['categorical_accuracy'])\n",
    "ax2 = plt.plot(history.history['val_categorical_accuracy'])\n",
    "plt.title('model accuracy')\n",
    "plt.ylabel('categorical_accuracy')\n",
    "plt.xlabel('epoch')\n",
    "plt.legend(['train', 'validation'], loc='lower left')"
   ]
  },
  {
   "cell_type": "markdown",
   "metadata": {},
   "source": [
    "The model seems to overfit a little \n",
    "Trainning Accuracy - 92.76\n",
    "Validation Accuracy - 69.00"
   ]
  },
  {
   "cell_type": "markdown",
   "metadata": {},
   "source": [
    "# CNN2D + LSTM (45 Epochs and SGD)"
   ]
  },
  {
   "cell_type": "code",
   "execution_count": 41,
   "metadata": {},
   "outputs": [],
   "source": [
    "from tensorflow.keras.models import Sequential, Model\n",
    "from tensorflow.keras.layers import Dense, GRU, Flatten, TimeDistributed, Flatten, BatchNormalization, Activation, Dropout, LSTM\n",
    "from keras.layers.convolutional import Conv3D, MaxPooling3D, MaxPooling2D, Conv2D\n",
    "from tensorflow.keras.callbacks import ModelCheckpoint, ReduceLROnPlateau\n",
    "from tensorflow.keras import optimizers\n",
    "\n",
    "model = Sequential()\n",
    "\n",
    "model.add(TimeDistributed(Conv2D(16,(3,3),padding = 'same',activation='relu'),input_shape = input_shape))\n",
    "model.add(TimeDistributed(BatchNormalization()))\n",
    "model.add(TimeDistributed(MaxPooling2D(2,2)))\n",
    "\n",
    "model.add(TimeDistributed(Conv2D(32,(3,3),padding = 'same',activation='relu'),input_shape = input_shape))\n",
    "model.add(TimeDistributed(BatchNormalization()))\n",
    "model.add(TimeDistributed(MaxPooling2D(2,2)))\n",
    "\n",
    "model.add(TimeDistributed(Conv2D(64,(3,3),padding = 'same',activation='relu')))\n",
    "model.add(TimeDistributed(BatchNormalization()))\n",
    "model.add(TimeDistributed(MaxPooling2D(2,2)))\n",
    "\n",
    "model.add(TimeDistributed(Conv2D(128,(3,3),padding = 'same',activation='relu')))\n",
    "model.add(TimeDistributed(BatchNormalization()))\n",
    "model.add(TimeDistributed(MaxPooling2D(2,2)))\n",
    "\n",
    "model.add(TimeDistributed(Conv2D(256,(3,3),padding = 'same',activation='relu')))\n",
    "model.add(TimeDistributed(BatchNormalization()))\n",
    "model.add(TimeDistributed(MaxPooling2D(2,2)))\n",
    "\n",
    "model.add(TimeDistributed(Flatten()))\n",
    "\n",
    "model.add(LSTM(256,return_sequences = False))\n",
    "model.add(Dropout(0.25))\n",
    "model.add(Dense(256,activation='relu'))\n",
    "model.add(Dropout(0.25))\n",
    "model.add(Dense(5,activation='softmax'))\n"
   ]
  },
  {
   "cell_type": "code",
   "execution_count": 42,
   "metadata": {},
   "outputs": [
    {
     "name": "stdout",
     "output_type": "stream",
     "text": [
      "Model: \"sequential_5\"\n",
      "_________________________________________________________________\n",
      " Layer (type)                Output Shape              Param #   \n",
      "=================================================================\n",
      " time_distributed_32 (TimeDi  (None, 30, 120, 120, 16)  448      \n",
      " stributed)                                                      \n",
      "                                                                 \n",
      " time_distributed_33 (TimeDi  (None, 30, 120, 120, 16)  64       \n",
      " stributed)                                                      \n",
      "                                                                 \n",
      " time_distributed_34 (TimeDi  (None, 30, 60, 60, 16)   0         \n",
      " stributed)                                                      \n",
      "                                                                 \n",
      " time_distributed_35 (TimeDi  (None, 30, 60, 60, 32)   4640      \n",
      " stributed)                                                      \n",
      "                                                                 \n",
      " time_distributed_36 (TimeDi  (None, 30, 60, 60, 32)   128       \n",
      " stributed)                                                      \n",
      "                                                                 \n",
      " time_distributed_37 (TimeDi  (None, 30, 30, 30, 32)   0         \n",
      " stributed)                                                      \n",
      "                                                                 \n",
      " time_distributed_38 (TimeDi  (None, 30, 30, 30, 64)   18496     \n",
      " stributed)                                                      \n",
      "                                                                 \n",
      " time_distributed_39 (TimeDi  (None, 30, 30, 30, 64)   256       \n",
      " stributed)                                                      \n",
      "                                                                 \n",
      " time_distributed_40 (TimeDi  (None, 30, 15, 15, 64)   0         \n",
      " stributed)                                                      \n",
      "                                                                 \n",
      " time_distributed_41 (TimeDi  (None, 30, 15, 15, 128)  73856     \n",
      " stributed)                                                      \n",
      "                                                                 \n",
      " time_distributed_42 (TimeDi  (None, 30, 15, 15, 128)  512       \n",
      " stributed)                                                      \n",
      "                                                                 \n",
      " time_distributed_43 (TimeDi  (None, 30, 7, 7, 128)    0         \n",
      " stributed)                                                      \n",
      "                                                                 \n",
      " time_distributed_44 (TimeDi  (None, 30, 7, 7, 256)    295168    \n",
      " stributed)                                                      \n",
      "                                                                 \n",
      " time_distributed_45 (TimeDi  (None, 30, 7, 7, 256)    1024      \n",
      " stributed)                                                      \n",
      "                                                                 \n",
      " time_distributed_46 (TimeDi  (None, 30, 3, 3, 256)    0         \n",
      " stributed)                                                      \n",
      "                                                                 \n",
      " time_distributed_47 (TimeDi  (None, 30, 2304)         0         \n",
      " stributed)                                                      \n",
      "                                                                 \n",
      " lstm_1 (LSTM)               (None, 256)               2622464   \n",
      "                                                                 \n",
      " dropout_10 (Dropout)        (None, 256)               0         \n",
      "                                                                 \n",
      " dense_13 (Dense)            (None, 256)               65792     \n",
      "                                                                 \n",
      " dropout_11 (Dropout)        (None, 256)               0         \n",
      "                                                                 \n",
      " dense_14 (Dense)            (None, 5)                 1285      \n",
      "                                                                 \n",
      "=================================================================\n",
      "Total params: 3,084,133\n",
      "Trainable params: 3,083,141\n",
      "Non-trainable params: 992\n",
      "_________________________________________________________________\n",
      "None\n"
     ]
    }
   ],
   "source": [
    "optimiser = optimizers.SGD()\n",
    "epochs = 45\n",
    "model.compile(optimizer=optimiser, loss='categorical_crossentropy', metrics=['categorical_accuracy'])\n",
    "print (model.summary())"
   ]
  },
  {
   "cell_type": "code",
   "execution_count": 43,
   "metadata": {},
   "outputs": [],
   "source": [
    "train_generator = generator(train_path, train_doc, batch_size)\n",
    "val_generator = generator(val_path, val_doc, batch_size)"
   ]
  },
  {
   "cell_type": "code",
   "execution_count": 44,
   "metadata": {},
   "outputs": [
    {
     "name": "stdout",
     "output_type": "stream",
     "text": [
      "WARNING:tensorflow:`period` argument is deprecated. Please use `save_freq` to specify the frequency in number of batches seen.\n"
     ]
    }
   ],
   "source": [
    "model_name = 'model_initCNN2DLSTM_2' + '_1' + str(curr_dt_time).replace(' ','').replace(':','_') + '/'\n",
    "    \n",
    "if not os.path.exists(model_name):\n",
    "    os.mkdir(model_name)\n",
    "        \n",
    "filepath = model_name + 'model-{epoch:05d}-{loss:.5f}-{categorical_accuracy:.5f}-{val_loss:.5f}-{val_categorical_accuracy:.5f}.h5'\n",
    "\n",
    "checkpoint = ModelCheckpoint(filepath, monitor='val_loss', verbose=1, save_best_only=False, save_weights_only=False, mode='auto', period=1)\n",
    "\n",
    "LR = ReduceLROnPlateau(monitor='val_loss',factor=0.5,patience=2,cooldown=1,verbose=1)\n",
    "callbacks_list = [checkpoint, LR]"
   ]
  },
  {
   "cell_type": "code",
   "execution_count": 45,
   "metadata": {},
   "outputs": [],
   "source": [
    "if (num_train_sequences%batch_size) == 0:\n",
    "    steps_per_epoch = int(num_train_sequences/batch_size)\n",
    "else:\n",
    "    steps_per_epoch = (num_train_sequences//batch_size) + 1\n",
    "\n",
    "if (num_val_sequences%batch_size) == 0:\n",
    "    validation_steps = int(num_val_sequences/batch_size)\n",
    "else:\n",
    "    validation_steps = (num_val_sequences//batch_size) + 1"
   ]
  },
  {
   "cell_type": "code",
   "execution_count": 46,
   "metadata": {},
   "outputs": [
    {
     "name": "stdout",
     "output_type": "stream",
     "text": [
      "Source path =  /home/arjun/Downloads/Project_data/train ; batch size = 10\n",
      "Epoch 1/45\n",
      "67/67 [==============================] - ETA: 0s - loss: 1.4797 - categorical_accuracy: 0.3363Source path =  /home/arjun/Downloads/Project_data/val ; batch size = 10\n",
      "\n",
      "Epoch 1: saving model to model_initCNN2DLSTM_2_12022-09-1311_26_59.180547/model-00001-1.47970-0.33635-1.64413-0.21000.h5\n",
      "67/67 [==============================] - 265s 4s/step - loss: 1.4797 - categorical_accuracy: 0.3363 - val_loss: 1.6441 - val_categorical_accuracy: 0.2100 - lr: 0.0100\n",
      "Epoch 2/45\n",
      "67/67 [==============================] - ETA: 0s - loss: 1.2014 - categorical_accuracy: 0.5038\n",
      "Epoch 2: saving model to model_initCNN2DLSTM_2_12022-09-1311_26_59.180547/model-00002-1.20136-0.50377-1.88576-0.22000.h5\n",
      "67/67 [==============================] - 269s 4s/step - loss: 1.2014 - categorical_accuracy: 0.5038 - val_loss: 1.8858 - val_categorical_accuracy: 0.2200 - lr: 0.0100\n",
      "Epoch 3/45\n",
      "67/67 [==============================] - ETA: 0s - loss: 1.0503 - categorical_accuracy: 0.5777\n",
      "Epoch 3: saving model to model_initCNN2DLSTM_2_12022-09-1311_26_59.180547/model-00003-1.05033-0.57768-2.41470-0.19000.h5\n",
      "\n",
      "Epoch 3: ReduceLROnPlateau reducing learning rate to 0.004999999888241291.\n",
      "67/67 [==============================] - 281s 4s/step - loss: 1.0503 - categorical_accuracy: 0.5777 - val_loss: 2.4147 - val_categorical_accuracy: 0.1900 - lr: 0.0100\n",
      "Epoch 4/45\n",
      "67/67 [==============================] - ETA: 0s - loss: 0.8199 - categorical_accuracy: 0.7074\n",
      "Epoch 4: saving model to model_initCNN2DLSTM_2_12022-09-1311_26_59.180547/model-00004-0.81990-0.70739-2.15882-0.27000.h5\n",
      "67/67 [==============================] - 310s 5s/step - loss: 0.8199 - categorical_accuracy: 0.7074 - val_loss: 2.1588 - val_categorical_accuracy: 0.2700 - lr: 0.0050\n",
      "Epoch 5/45\n",
      "67/67 [==============================] - ETA: 0s - loss: 0.7459 - categorical_accuracy: 0.7436\n",
      "Epoch 5: saving model to model_initCNN2DLSTM_2_12022-09-1311_26_59.180547/model-00005-0.74593-0.74359-1.91180-0.38000.h5\n",
      "\n",
      "Epoch 5: ReduceLROnPlateau reducing learning rate to 0.0024999999441206455.\n",
      "67/67 [==============================] - 290s 4s/step - loss: 0.7459 - categorical_accuracy: 0.7436 - val_loss: 1.9118 - val_categorical_accuracy: 0.3800 - lr: 0.0050\n",
      "Epoch 6/45\n",
      "67/67 [==============================] - ETA: 0s - loss: 0.6428 - categorical_accuracy: 0.7798\n",
      "Epoch 6: saving model to model_initCNN2DLSTM_2_12022-09-1311_26_59.180547/model-00006-0.64277-0.77979-1.59818-0.35000.h5\n",
      "67/67 [==============================] - 266s 4s/step - loss: 0.6428 - categorical_accuracy: 0.7798 - val_loss: 1.5982 - val_categorical_accuracy: 0.3500 - lr: 0.0025\n",
      "Epoch 7/45\n",
      "67/67 [==============================] - ETA: 0s - loss: 0.5379 - categorical_accuracy: 0.8386\n",
      "Epoch 7: saving model to model_initCNN2DLSTM_2_12022-09-1311_26_59.180547/model-00007-0.53793-0.83861-1.23670-0.45000.h5\n",
      "67/67 [==============================] - 261s 4s/step - loss: 0.5379 - categorical_accuracy: 0.8386 - val_loss: 1.2367 - val_categorical_accuracy: 0.4500 - lr: 0.0025\n",
      "Epoch 8/45\n",
      "67/67 [==============================] - ETA: 0s - loss: 0.4719 - categorical_accuracy: 0.8643\n",
      "Epoch 8: saving model to model_initCNN2DLSTM_2_12022-09-1311_26_59.180547/model-00008-0.47185-0.86425-1.20599-0.47000.h5\n",
      "67/67 [==============================] - 260s 4s/step - loss: 0.4719 - categorical_accuracy: 0.8643 - val_loss: 1.2060 - val_categorical_accuracy: 0.4700 - lr: 0.0025\n",
      "Epoch 9/45\n",
      "67/67 [==============================] - ETA: 0s - loss: 0.4247 - categorical_accuracy: 0.8733\n",
      "Epoch 9: saving model to model_initCNN2DLSTM_2_12022-09-1311_26_59.180547/model-00009-0.42475-0.87330-1.08706-0.56000.h5\n",
      "67/67 [==============================] - 260s 4s/step - loss: 0.4247 - categorical_accuracy: 0.8733 - val_loss: 1.0871 - val_categorical_accuracy: 0.5600 - lr: 0.0025\n",
      "Epoch 10/45\n",
      "67/67 [==============================] - ETA: 0s - loss: 0.3538 - categorical_accuracy: 0.8989\n",
      "Epoch 10: saving model to model_initCNN2DLSTM_2_12022-09-1311_26_59.180547/model-00010-0.35379-0.89894-0.82045-0.65000.h5\n",
      "67/67 [==============================] - 259s 4s/step - loss: 0.3538 - categorical_accuracy: 0.8989 - val_loss: 0.8205 - val_categorical_accuracy: 0.6500 - lr: 0.0025\n",
      "Epoch 11/45\n",
      "67/67 [==============================] - ETA: 0s - loss: 0.3342 - categorical_accuracy: 0.8989\n",
      "Epoch 11: saving model to model_initCNN2DLSTM_2_12022-09-1311_26_59.180547/model-00011-0.33415-0.89894-0.74487-0.76000.h5\n",
      "67/67 [==============================] - 260s 4s/step - loss: 0.3342 - categorical_accuracy: 0.8989 - val_loss: 0.7449 - val_categorical_accuracy: 0.7600 - lr: 0.0025\n",
      "Epoch 12/45\n",
      "67/67 [==============================] - ETA: 0s - loss: 0.3057 - categorical_accuracy: 0.9216\n",
      "Epoch 12: saving model to model_initCNN2DLSTM_2_12022-09-1311_26_59.180547/model-00012-0.30572-0.92157-1.20671-0.53000.h5\n",
      "67/67 [==============================] - 260s 4s/step - loss: 0.3057 - categorical_accuracy: 0.9216 - val_loss: 1.2067 - val_categorical_accuracy: 0.5300 - lr: 0.0025\n",
      "Epoch 13/45\n",
      "67/67 [==============================] - ETA: 0s - loss: 0.2703 - categorical_accuracy: 0.9276\n",
      "Epoch 13: saving model to model_initCNN2DLSTM_2_12022-09-1311_26_59.180547/model-00013-0.27033-0.92760-1.20050-0.54000.h5\n",
      "\n",
      "Epoch 13: ReduceLROnPlateau reducing learning rate to 0.0012499999720603228.\n",
      "67/67 [==============================] - 260s 4s/step - loss: 0.2703 - categorical_accuracy: 0.9276 - val_loss: 1.2005 - val_categorical_accuracy: 0.5400 - lr: 0.0025\n",
      "Epoch 14/45\n",
      "67/67 [==============================] - ETA: 0s - loss: 0.2446 - categorical_accuracy: 0.9457\n",
      "Epoch 14: saving model to model_initCNN2DLSTM_2_12022-09-1311_26_59.180547/model-00014-0.24456-0.94570-0.70078-0.74000.h5\n",
      "67/67 [==============================] - 260s 4s/step - loss: 0.2446 - categorical_accuracy: 0.9457 - val_loss: 0.7008 - val_categorical_accuracy: 0.7400 - lr: 0.0012\n",
      "Epoch 15/45\n",
      "67/67 [==============================] - ETA: 0s - loss: 0.2410 - categorical_accuracy: 0.9472\n",
      "Epoch 15: saving model to model_initCNN2DLSTM_2_12022-09-1311_26_59.180547/model-00015-0.24096-0.94721-0.64060-0.78000.h5\n",
      "67/67 [==============================] - 259s 4s/step - loss: 0.2410 - categorical_accuracy: 0.9472 - val_loss: 0.6406 - val_categorical_accuracy: 0.7800 - lr: 0.0012\n",
      "Epoch 16/45\n",
      "67/67 [==============================] - ETA: 0s - loss: 0.1847 - categorical_accuracy: 0.9668\n",
      "Epoch 16: saving model to model_initCNN2DLSTM_2_12022-09-1311_26_59.180547/model-00016-0.18471-0.96682-0.74333-0.74000.h5\n",
      "67/67 [==============================] - 260s 4s/step - loss: 0.1847 - categorical_accuracy: 0.9668 - val_loss: 0.7433 - val_categorical_accuracy: 0.7400 - lr: 0.0012\n",
      "Epoch 17/45\n",
      "67/67 [==============================] - ETA: 0s - loss: 0.1855 - categorical_accuracy: 0.9623\n",
      "Epoch 17: saving model to model_initCNN2DLSTM_2_12022-09-1311_26_59.180547/model-00017-0.18547-0.96229-0.64616-0.73000.h5\n",
      "\n",
      "Epoch 17: ReduceLROnPlateau reducing learning rate to 0.0006249999860301614.\n",
      "67/67 [==============================] - 260s 4s/step - loss: 0.1855 - categorical_accuracy: 0.9623 - val_loss: 0.6462 - val_categorical_accuracy: 0.7300 - lr: 0.0012\n",
      "Epoch 18/45\n",
      "67/67 [==============================] - ETA: 0s - loss: 0.2078 - categorical_accuracy: 0.9593\n",
      "Epoch 18: saving model to model_initCNN2DLSTM_2_12022-09-1311_26_59.180547/model-00018-0.20783-0.95928-0.56129-0.83000.h5\n",
      "67/67 [==============================] - 260s 4s/step - loss: 0.2078 - categorical_accuracy: 0.9593 - val_loss: 0.5613 - val_categorical_accuracy: 0.8300 - lr: 6.2500e-04\n",
      "Epoch 19/45\n",
      "67/67 [==============================] - ETA: 0s - loss: 0.1713 - categorical_accuracy: 0.9744\n",
      "Epoch 19: saving model to model_initCNN2DLSTM_2_12022-09-1311_26_59.180547/model-00019-0.17126-0.97436-0.61417-0.76000.h5\n",
      "67/67 [==============================] - 269s 4s/step - loss: 0.1713 - categorical_accuracy: 0.9744 - val_loss: 0.6142 - val_categorical_accuracy: 0.7600 - lr: 6.2500e-04\n",
      "Epoch 20/45\n",
      "67/67 [==============================] - ETA: 0s - loss: 0.1580 - categorical_accuracy: 0.9759\n",
      "Epoch 20: saving model to model_initCNN2DLSTM_2_12022-09-1311_26_59.180547/model-00020-0.15796-0.97587-0.63632-0.74000.h5\n"
     ]
    },
    {
     "name": "stdout",
     "output_type": "stream",
     "text": [
      "\n",
      "Epoch 20: ReduceLROnPlateau reducing learning rate to 0.0003124999930150807.\n",
      "67/67 [==============================] - 274s 4s/step - loss: 0.1580 - categorical_accuracy: 0.9759 - val_loss: 0.6363 - val_categorical_accuracy: 0.7400 - lr: 6.2500e-04\n",
      "Epoch 21/45\n",
      "67/67 [==============================] - ETA: 0s - loss: 0.1445 - categorical_accuracy: 0.9729\n",
      "Epoch 21: saving model to model_initCNN2DLSTM_2_12022-09-1311_26_59.180547/model-00021-0.14452-0.97285-0.60377-0.77000.h5\n",
      "67/67 [==============================] - 303s 5s/step - loss: 0.1445 - categorical_accuracy: 0.9729 - val_loss: 0.6038 - val_categorical_accuracy: 0.7700 - lr: 3.1250e-04\n",
      "Epoch 22/45\n",
      "67/67 [==============================] - ETA: 0s - loss: 0.1483 - categorical_accuracy: 0.9698\n",
      "Epoch 22: saving model to model_initCNN2DLSTM_2_12022-09-1311_26_59.180547/model-00022-0.14833-0.96983-0.58973-0.74000.h5\n",
      "\n",
      "Epoch 22: ReduceLROnPlateau reducing learning rate to 0.00015624999650754035.\n",
      "67/67 [==============================] - 306s 5s/step - loss: 0.1483 - categorical_accuracy: 0.9698 - val_loss: 0.5897 - val_categorical_accuracy: 0.7400 - lr: 3.1250e-04\n",
      "Epoch 23/45\n",
      "67/67 [==============================] - ETA: 0s - loss: 0.1461 - categorical_accuracy: 0.9774\n",
      "Epoch 23: saving model to model_initCNN2DLSTM_2_12022-09-1311_26_59.180547/model-00023-0.14608-0.97738-0.65080-0.76000.h5\n",
      "67/67 [==============================] - 294s 4s/step - loss: 0.1461 - categorical_accuracy: 0.9774 - val_loss: 0.6508 - val_categorical_accuracy: 0.7600 - lr: 1.5625e-04\n",
      "Epoch 24/45\n",
      "67/67 [==============================] - ETA: 0s - loss: 0.1490 - categorical_accuracy: 0.9759\n",
      "Epoch 24: saving model to model_initCNN2DLSTM_2_12022-09-1311_26_59.180547/model-00024-0.14895-0.97587-0.52117-0.80000.h5\n",
      "67/67 [==============================] - 262s 4s/step - loss: 0.1490 - categorical_accuracy: 0.9759 - val_loss: 0.5212 - val_categorical_accuracy: 0.8000 - lr: 1.5625e-04\n",
      "Epoch 25/45\n",
      "67/67 [==============================] - ETA: 0s - loss: 0.1417 - categorical_accuracy: 0.9804\n",
      "Epoch 25: saving model to model_initCNN2DLSTM_2_12022-09-1311_26_59.180547/model-00025-0.14170-0.98039-0.74337-0.73000.h5\n",
      "67/67 [==============================] - 262s 4s/step - loss: 0.1417 - categorical_accuracy: 0.9804 - val_loss: 0.7434 - val_categorical_accuracy: 0.7300 - lr: 1.5625e-04\n",
      "Epoch 26/45\n",
      "67/67 [==============================] - ETA: 0s - loss: 0.1627 - categorical_accuracy: 0.9698\n",
      "Epoch 26: saving model to model_initCNN2DLSTM_2_12022-09-1311_26_59.180547/model-00026-0.16270-0.96983-0.65304-0.73000.h5\n",
      "\n",
      "Epoch 26: ReduceLROnPlateau reducing learning rate to 7.812499825377017e-05.\n",
      "67/67 [==============================] - 260s 4s/step - loss: 0.1627 - categorical_accuracy: 0.9698 - val_loss: 0.6530 - val_categorical_accuracy: 0.7300 - lr: 1.5625e-04\n",
      "Epoch 27/45\n",
      "67/67 [==============================] - ETA: 0s - loss: 0.1406 - categorical_accuracy: 0.9894\n",
      "Epoch 27: saving model to model_initCNN2DLSTM_2_12022-09-1311_26_59.180547/model-00027-0.14058-0.98944-0.61660-0.74000.h5\n",
      "67/67 [==============================] - 262s 4s/step - loss: 0.1406 - categorical_accuracy: 0.9894 - val_loss: 0.6166 - val_categorical_accuracy: 0.7400 - lr: 7.8125e-05\n",
      "Epoch 28/45\n",
      "67/67 [==============================] - ETA: 0s - loss: 0.1529 - categorical_accuracy: 0.9789\n",
      "Epoch 28: saving model to model_initCNN2DLSTM_2_12022-09-1311_26_59.180547/model-00028-0.15287-0.97888-0.62449-0.76000.h5\n",
      "\n",
      "Epoch 28: ReduceLROnPlateau reducing learning rate to 3.9062499126885086e-05.\n",
      "67/67 [==============================] - 262s 4s/step - loss: 0.1529 - categorical_accuracy: 0.9789 - val_loss: 0.6245 - val_categorical_accuracy: 0.7600 - lr: 7.8125e-05\n",
      "Epoch 29/45\n",
      "67/67 [==============================] - ETA: 0s - loss: 0.1454 - categorical_accuracy: 0.9774\n",
      "Epoch 29: saving model to model_initCNN2DLSTM_2_12022-09-1311_26_59.180547/model-00029-0.14544-0.97738-0.56622-0.78000.h5\n",
      "67/67 [==============================] - 262s 4s/step - loss: 0.1454 - categorical_accuracy: 0.9774 - val_loss: 0.5662 - val_categorical_accuracy: 0.7800 - lr: 3.9062e-05\n",
      "Epoch 30/45\n",
      "67/67 [==============================] - ETA: 0s - loss: 0.1481 - categorical_accuracy: 0.9744\n",
      "Epoch 30: saving model to model_initCNN2DLSTM_2_12022-09-1311_26_59.180547/model-00030-0.14810-0.97436-0.60760-0.76000.h5\n",
      "\n",
      "Epoch 30: ReduceLROnPlateau reducing learning rate to 1.9531249563442543e-05.\n",
      "67/67 [==============================] - 261s 4s/step - loss: 0.1481 - categorical_accuracy: 0.9744 - val_loss: 0.6076 - val_categorical_accuracy: 0.7600 - lr: 3.9062e-05\n",
      "Epoch 31/45\n",
      "67/67 [==============================] - ETA: 0s - loss: 0.1401 - categorical_accuracy: 0.9819\n",
      "Epoch 31: saving model to model_initCNN2DLSTM_2_12022-09-1311_26_59.180547/model-00031-0.14009-0.98190-0.60863-0.76000.h5\n",
      "67/67 [==============================] - 261s 4s/step - loss: 0.1401 - categorical_accuracy: 0.9819 - val_loss: 0.6086 - val_categorical_accuracy: 0.7600 - lr: 1.9531e-05\n",
      "Epoch 32/45\n",
      "67/67 [==============================] - ETA: 0s - loss: 0.1482 - categorical_accuracy: 0.9819\n",
      "Epoch 32: saving model to model_initCNN2DLSTM_2_12022-09-1311_26_59.180547/model-00032-0.14817-0.98190-0.58418-0.77000.h5\n",
      "\n",
      "Epoch 32: ReduceLROnPlateau reducing learning rate to 9.765624781721272e-06.\n",
      "67/67 [==============================] - 261s 4s/step - loss: 0.1482 - categorical_accuracy: 0.9819 - val_loss: 0.5842 - val_categorical_accuracy: 0.7700 - lr: 1.9531e-05\n",
      "Epoch 33/45\n",
      "67/67 [==============================] - ETA: 0s - loss: 0.1550 - categorical_accuracy: 0.9789\n",
      "Epoch 33: saving model to model_initCNN2DLSTM_2_12022-09-1311_26_59.180547/model-00033-0.15503-0.97888-0.63049-0.74000.h5\n",
      "67/67 [==============================] - 266s 4s/step - loss: 0.1550 - categorical_accuracy: 0.9789 - val_loss: 0.6305 - val_categorical_accuracy: 0.7400 - lr: 9.7656e-06\n",
      "Epoch 34/45\n",
      "67/67 [==============================] - ETA: 0s - loss: 0.1391 - categorical_accuracy: 0.9879\n",
      "Epoch 34: saving model to model_initCNN2DLSTM_2_12022-09-1311_26_59.180547/model-00034-0.13910-0.98793-0.58763-0.78000.h5\n",
      "\n",
      "Epoch 34: ReduceLROnPlateau reducing learning rate to 4.882812390860636e-06.\n",
      "67/67 [==============================] - 275s 4s/step - loss: 0.1391 - categorical_accuracy: 0.9879 - val_loss: 0.5876 - val_categorical_accuracy: 0.7800 - lr: 9.7656e-06\n",
      "Epoch 35/45\n",
      "67/67 [==============================] - ETA: 0s - loss: 0.1406 - categorical_accuracy: 0.9819\n",
      "Epoch 35: saving model to model_initCNN2DLSTM_2_12022-09-1311_26_59.180547/model-00035-0.14064-0.98190-0.50558-0.80000.h5\n",
      "67/67 [==============================] - 264s 4s/step - loss: 0.1406 - categorical_accuracy: 0.9819 - val_loss: 0.5056 - val_categorical_accuracy: 0.8000 - lr: 4.8828e-06\n",
      "Epoch 36/45\n",
      "67/67 [==============================] - ETA: 0s - loss: 0.1394 - categorical_accuracy: 0.9774\n",
      "Epoch 36: saving model to model_initCNN2DLSTM_2_12022-09-1311_26_59.180547/model-00036-0.13943-0.97738-0.60206-0.78000.h5\n",
      "67/67 [==============================] - 261s 4s/step - loss: 0.1394 - categorical_accuracy: 0.9774 - val_loss: 0.6021 - val_categorical_accuracy: 0.7800 - lr: 4.8828e-06\n",
      "Epoch 37/45\n",
      "67/67 [==============================] - ETA: 0s - loss: 0.1332 - categorical_accuracy: 0.9849\n",
      "Epoch 37: saving model to model_initCNN2DLSTM_2_12022-09-1311_26_59.180547/model-00037-0.13322-0.98492-0.64517-0.74000.h5\n",
      "\n",
      "Epoch 37: ReduceLROnPlateau reducing learning rate to 2.441406195430318e-06.\n",
      "67/67 [==============================] - 259s 4s/step - loss: 0.1332 - categorical_accuracy: 0.9849 - val_loss: 0.6452 - val_categorical_accuracy: 0.7400 - lr: 4.8828e-06\n",
      "Epoch 38/45\n",
      "67/67 [==============================] - ETA: 0s - loss: 0.1418 - categorical_accuracy: 0.9834\n",
      "Epoch 38: saving model to model_initCNN2DLSTM_2_12022-09-1311_26_59.180547/model-00038-0.14183-0.98341-0.57507-0.75000.h5\n",
      "67/67 [==============================] - 261s 4s/step - loss: 0.1418 - categorical_accuracy: 0.9834 - val_loss: 0.5751 - val_categorical_accuracy: 0.7500 - lr: 2.4414e-06\n",
      "Epoch 39/45\n",
      "67/67 [==============================] - ETA: 0s - loss: 0.1414 - categorical_accuracy: 0.9759\n",
      "Epoch 39: saving model to model_initCNN2DLSTM_2_12022-09-1311_26_59.180547/model-00039-0.14141-0.97587-0.54175-0.82000.h5\n"
     ]
    },
    {
     "name": "stdout",
     "output_type": "stream",
     "text": [
      "\n",
      "Epoch 39: ReduceLROnPlateau reducing learning rate to 1.220703097715159e-06.\n",
      "67/67 [==============================] - 259s 4s/step - loss: 0.1414 - categorical_accuracy: 0.9759 - val_loss: 0.5417 - val_categorical_accuracy: 0.8200 - lr: 2.4414e-06\n",
      "Epoch 40/45\n",
      "67/67 [==============================] - ETA: 0s - loss: 0.1478 - categorical_accuracy: 0.9774\n",
      "Epoch 40: saving model to model_initCNN2DLSTM_2_12022-09-1311_26_59.180547/model-00040-0.14781-0.97738-0.65726-0.76000.h5\n",
      "67/67 [==============================] - 261s 4s/step - loss: 0.1478 - categorical_accuracy: 0.9774 - val_loss: 0.6573 - val_categorical_accuracy: 0.7600 - lr: 1.2207e-06\n",
      "Epoch 41/45\n",
      "67/67 [==============================] - ETA: 0s - loss: 0.1500 - categorical_accuracy: 0.9638\n",
      "Epoch 41: saving model to model_initCNN2DLSTM_2_12022-09-1311_26_59.180547/model-00041-0.15005-0.96380-0.60617-0.76000.h5\n",
      "\n",
      "Epoch 41: ReduceLROnPlateau reducing learning rate to 6.103515488575795e-07.\n",
      "67/67 [==============================] - 260s 4s/step - loss: 0.1500 - categorical_accuracy: 0.9638 - val_loss: 0.6062 - val_categorical_accuracy: 0.7600 - lr: 1.2207e-06\n",
      "Epoch 42/45\n",
      "67/67 [==============================] - ETA: 0s - loss: 0.1369 - categorical_accuracy: 0.9789\n",
      "Epoch 42: saving model to model_initCNN2DLSTM_2_12022-09-1311_26_59.180547/model-00042-0.13688-0.97888-0.61016-0.75000.h5\n",
      "67/67 [==============================] - 259s 4s/step - loss: 0.1369 - categorical_accuracy: 0.9789 - val_loss: 0.6102 - val_categorical_accuracy: 0.7500 - lr: 6.1035e-07\n",
      "Epoch 43/45\n",
      "67/67 [==============================] - ETA: 0s - loss: 0.1405 - categorical_accuracy: 0.9759\n",
      "Epoch 43: saving model to model_initCNN2DLSTM_2_12022-09-1311_26_59.180547/model-00043-0.14048-0.97587-0.69933-0.71000.h5\n",
      "\n",
      "Epoch 43: ReduceLROnPlateau reducing learning rate to 3.0517577442878974e-07.\n",
      "67/67 [==============================] - 261s 4s/step - loss: 0.1405 - categorical_accuracy: 0.9759 - val_loss: 0.6993 - val_categorical_accuracy: 0.7100 - lr: 6.1035e-07\n",
      "Epoch 44/45\n",
      "67/67 [==============================] - ETA: 0s - loss: 0.1487 - categorical_accuracy: 0.9789\n",
      "Epoch 44: saving model to model_initCNN2DLSTM_2_12022-09-1311_26_59.180547/model-00044-0.14875-0.97888-0.59410-0.75000.h5\n",
      "67/67 [==============================] - 261s 4s/step - loss: 0.1487 - categorical_accuracy: 0.9789 - val_loss: 0.5941 - val_categorical_accuracy: 0.7500 - lr: 3.0518e-07\n",
      "Epoch 45/45\n",
      "67/67 [==============================] - ETA: 0s - loss: 0.1356 - categorical_accuracy: 0.9804\n",
      "Epoch 45: saving model to model_initCNN2DLSTM_2_12022-09-1311_26_59.180547/model-00045-0.13557-0.98039-0.60345-0.80000.h5\n",
      "\n",
      "Epoch 45: ReduceLROnPlateau reducing learning rate to 1.5258788721439487e-07.\n",
      "67/67 [==============================] - 260s 4s/step - loss: 0.1356 - categorical_accuracy: 0.9804 - val_loss: 0.6035 - val_categorical_accuracy: 0.8000 - lr: 3.0518e-07\n"
     ]
    }
   ],
   "source": [
    "history = model.fit_generator(train_generator, steps_per_epoch=steps_per_epoch, epochs=epochs, verbose=1, \n",
    "                    callbacks=callbacks_list, validation_data=val_generator, \n",
    "                    validation_steps=validation_steps, class_weight=None, workers=1, initial_epoch=0)"
   ]
  },
  {
   "cell_type": "code",
   "execution_count": 47,
   "metadata": {},
   "outputs": [
    {
     "data": {
      "text/plain": [
       "<matplotlib.legend.Legend at 0x7fccffa703d0>"
      ]
     },
     "execution_count": 47,
     "metadata": {},
     "output_type": "execute_result"
    },
    {
     "data": {
      "image/png": "[encoded data removed]",
      "text/plain": [
       "<Figure size 1440x432 with 2 Axes>"
      ]
     },
     "metadata": {
      "needs_background": "light"
     },
     "output_type": "display_data"
    }
   ],
   "source": [
    "plt.figure(figsize=(20,6))\n",
    "ax1 = plt.subplot(121)\n",
    "ax1 = plt.plot(history.history['loss'])\n",
    "ax1 = plt.plot(history.history['val_loss'])\n",
    "plt.title('model loss')\n",
    "plt.ylabel('loss')\n",
    "plt.xlabel('epoch')\n",
    "plt.legend(['train', 'validation'], loc='lower left')\n",
    "ax2 = plt.subplot(122)\n",
    "ax2 = plt.plot(history.history['categorical_accuracy'])\n",
    "ax2 = plt.plot(history.history['val_categorical_accuracy'])\n",
    "plt.title('model accuracy')\n",
    "plt.ylabel('categorical_accuracy')\n",
    "plt.xlabel('epoch')\n",
    "plt.legend(['train', 'validation'], loc='lower left')"
   ]
  },
  {
   "cell_type": "markdown",
   "metadata": {},
   "source": [
    "This model does not seem to overfit, \n",
    "Training Accuracy - 98.04\n",
    "Validation Accuracy - 80.00"
   ]
  },
  {
   "cell_type": "markdown",
   "metadata": {},
   "source": [
    "# CNN2D + LSTM (45 Epochs and Adam)"
   ]
  },
  {
   "cell_type": "code",
   "execution_count": 48,
   "metadata": {},
   "outputs": [],
   "source": [
    "from tensorflow.keras.models import Sequential, Model\n",
    "from tensorflow.keras.layers import Dense, GRU, Flatten, TimeDistributed, Flatten, BatchNormalization, Activation, Dropout, LSTM\n",
    "from keras.layers.convolutional import Conv3D, MaxPooling3D, MaxPooling2D, Conv2D\n",
    "from tensorflow.keras.callbacks import ModelCheckpoint, ReduceLROnPlateau\n",
    "from tensorflow.keras import optimizers\n",
    "\n",
    "model = Sequential()\n",
    "\n",
    "model.add(TimeDistributed(Conv2D(16,(3,3),padding = 'same',activation='relu'),input_shape = input_shape))\n",
    "model.add(TimeDistributed(BatchNormalization()))\n",
    "model.add(TimeDistributed(MaxPooling2D(2,2)))\n",
    "\n",
    "model.add(TimeDistributed(Conv2D(32,(3,3),padding = 'same',activation='relu'),input_shape = input_shape))\n",
    "model.add(TimeDistributed(BatchNormalization()))\n",
    "model.add(TimeDistributed(MaxPooling2D(2,2)))\n",
    "\n",
    "model.add(TimeDistributed(Conv2D(64,(3,3),padding = 'same',activation='relu')))\n",
    "model.add(TimeDistributed(BatchNormalization()))\n",
    "model.add(TimeDistributed(MaxPooling2D(2,2)))\n",
    "\n",
    "model.add(TimeDistributed(Conv2D(128,(3,3),padding = 'same',activation='relu')))\n",
    "model.add(TimeDistributed(BatchNormalization()))\n",
    "model.add(TimeDistributed(MaxPooling2D(2,2)))\n",
    "\n",
    "model.add(TimeDistributed(Conv2D(256,(3,3),padding = 'same',activation='relu')))\n",
    "model.add(TimeDistributed(BatchNormalization()))\n",
    "model.add(TimeDistributed(MaxPooling2D(2,2)))\n",
    "\n",
    "model.add(TimeDistributed(Flatten()))\n",
    "\n",
    "model.add(LSTM(256,return_sequences = False))\n",
    "model.add(Dropout(0.25))\n",
    "model.add(Dense(256,activation='relu'))\n",
    "model.add(Dropout(0.25))\n",
    "model.add(Dense(5,activation='softmax'))"
   ]
  },
  {
   "cell_type": "code",
   "execution_count": 14,
   "metadata": {},
   "outputs": [
    {
     "name": "stdout",
     "output_type": "stream",
     "text": [
      "Model: \"sequential\"\n",
      "_________________________________________________________________\n",
      " Layer (type)                Output Shape              Param #   \n",
      "=================================================================\n",
      " time_distributed (TimeDistr  (None, 30, 120, 120, 16)  448      \n",
      " ibuted)                                                         \n",
      "                                                                 \n",
      " time_distributed_1 (TimeDis  (None, 30, 120, 120, 16)  64       \n",
      " tributed)                                                       \n",
      "                                                                 \n",
      " time_distributed_2 (TimeDis  (None, 30, 60, 60, 16)   0         \n",
      " tributed)                                                       \n",
      "                                                                 \n",
      " time_distributed_3 (TimeDis  (None, 30, 60, 60, 32)   4640      \n",
      " tributed)                                                       \n",
      "                                                                 \n",
      " time_distributed_4 (TimeDis  (None, 30, 60, 60, 32)   128       \n",
      " tributed)                                                       \n",
      "                                                                 \n",
      " time_distributed_5 (TimeDis  (None, 30, 30, 30, 32)   0         \n",
      " tributed)                                                       \n",
      "                                                                 \n",
      " time_distributed_6 (TimeDis  (None, 30, 30, 30, 64)   18496     \n",
      " tributed)                                                       \n",
      "                                                                 \n",
      " time_distributed_7 (TimeDis  (None, 30, 30, 30, 64)   256       \n",
      " tributed)                                                       \n",
      "                                                                 \n",
      " time_distributed_8 (TimeDis  (None, 30, 15, 15, 64)   0         \n",
      " tributed)                                                       \n",
      "                                                                 \n",
      " time_distributed_9 (TimeDis  (None, 30, 15, 15, 128)  73856     \n",
      " tributed)                                                       \n",
      "                                                                 \n",
      " time_distributed_10 (TimeDi  (None, 30, 15, 15, 128)  512       \n",
      " stributed)                                                      \n",
      "                                                                 \n",
      " time_distributed_11 (TimeDi  (None, 30, 7, 7, 128)    0         \n",
      " stributed)                                                      \n",
      "                                                                 \n",
      " time_distributed_12 (TimeDi  (None, 30, 7, 7, 256)    295168    \n",
      " stributed)                                                      \n",
      "                                                                 \n",
      " time_distributed_13 (TimeDi  (None, 30, 7, 7, 256)    1024      \n",
      " stributed)                                                      \n",
      "                                                                 \n",
      " time_distributed_14 (TimeDi  (None, 30, 3, 3, 256)    0         \n",
      " stributed)                                                      \n",
      "                                                                 \n",
      " time_distributed_15 (TimeDi  (None, 30, 2304)         0         \n",
      " stributed)                                                      \n",
      "                                                                 \n",
      " gru (GRU)                   (None, 256)               1967616   \n",
      "                                                                 \n",
      " dropout (Dropout)           (None, 256)               0         \n",
      "                                                                 \n",
      " dense (Dense)               (None, 256)               65792     \n",
      "                                                                 \n",
      " dropout_1 (Dropout)         (None, 256)               0         \n",
      "                                                                 \n",
      " dense_1 (Dense)             (None, 5)                 1285      \n",
      "                                                                 \n",
      "=================================================================\n",
      "Total params: 2,429,285\n",
      "Trainable params: 2,428,293\n",
      "Non-trainable params: 992\n",
      "_________________________________________________________________\n",
      "None\n"
     ]
    }
   ],
   "source": [
    "optimiser = optimizers.Adam(0.0001)\n",
    "epochs = 45\n",
    "model.compile(optimizer=optimiser, loss='categorical_crossentropy', metrics=['categorical_accuracy'])\n",
    "print (model.summary())"
   ]
  },
  {
   "cell_type": "code",
   "execution_count": 15,
   "metadata": {},
   "outputs": [],
   "source": [
    "train_generator = generator(train_path, train_doc, batch_size)\n",
    "val_generator = generator(val_path, val_doc, batch_size)"
   ]
  },
  {
   "cell_type": "code",
   "execution_count": 16,
   "metadata": {},
   "outputs": [
    {
     "name": "stdout",
     "output_type": "stream",
     "text": [
      "WARNING:tensorflow:`period` argument is deprecated. Please use `save_freq` to specify the frequency in number of batches seen.\n"
     ]
    }
   ],
   "source": [
    "model_name = 'model_initCNN2DLSTM_2' + '_2' + str(curr_dt_time).replace(' ','').replace(':','_') + '/'\n",
    "    \n",
    "if not os.path.exists(model_name):\n",
    "    os.mkdir(model_name)\n",
    "        \n",
    "filepath = model_name + 'model-{epoch:05d}-{loss:.5f}-{categorical_accuracy:.5f}-{val_loss:.5f}-{val_categorical_accuracy:.5f}.h5'\n",
    "\n",
    "checkpoint = ModelCheckpoint(filepath, monitor='val_loss', verbose=1, save_best_only=False, save_weights_only=False, mode='auto', period=1)\n",
    "\n",
    "LR = ReduceLROnPlateau(monitor='val_loss',factor=0.5,patience=2,cooldown=1,verbose=1)\n",
    "callbacks_list = [checkpoint, LR]"
   ]
  },
  {
   "cell_type": "code",
   "execution_count": 17,
   "metadata": {},
   "outputs": [],
   "source": [
    "if (num_train_sequences%batch_size) == 0:\n",
    "    steps_per_epoch = int(num_train_sequences/batch_size)\n",
    "else:\n",
    "    steps_per_epoch = (num_train_sequences//batch_size) + 1\n",
    "\n",
    "if (num_val_sequences%batch_size) == 0:\n",
    "    validation_steps = int(num_val_sequences/batch_size)\n",
    "else:\n",
    "    validation_steps = (num_val_sequences//batch_size) + 1"
   ]
  },
  {
   "cell_type": "code",
   "execution_count": 18,
   "metadata": {},
   "outputs": [
    {
     "name": "stdout",
     "output_type": "stream",
     "text": [
      "Source path =  /home/arjun/Downloads/Project_data/train ; batch size = 10\n",
      "Epoch 1/45\n",
      "67/67 [==============================] - ETA: 0s - loss: 0.4357 - categorical_accuracy: 0.8658\n",
      "Epoch 1: saving model to model_initCNN2DLSTM_2_22022-09-1420_04_50.738367/model-00001-0.43568-0.86576-2.63569-0.34000.h5\n",
      "67/67 [==============================] - 265s 4s/step - loss: 0.4357 - categorical_accuracy: 0.8658 - val_loss: 2.6357 - val_categorical_accuracy: 0.3400 - lr: 1.0000e-04\n",
      "Epoch 2/45\n",
      "67/67 [==============================] - ETA: 0s - loss: 0.2649 - categorical_accuracy: 0.9291\n",
      "Epoch 2: saving model to model_initCNN2DLSTM_2_22022-09-1420_04_50.738367/model-00002-0.26491-0.92911-2.18656-0.41000.h5\n",
      "67/67 [==============================] - 281s 4s/step - loss: 0.2649 - categorical_accuracy: 0.9291 - val_loss: 2.1866 - val_categorical_accuracy: 0.4100 - lr: 1.0000e-04\n",
      "Epoch 3/45\n",
      "67/67 [==============================] - ETA: 0s - loss: 0.1560 - categorical_accuracy: 0.9713\n",
      "Epoch 3: saving model to model_initCNN2DLSTM_2_22022-09-1420_04_50.738367/model-00003-0.15600-0.97134-1.66464-0.47000.h5\n",
      "67/67 [==============================] - 291s 4s/step - loss: 0.1560 - categorical_accuracy: 0.9713 - val_loss: 1.6646 - val_categorical_accuracy: 0.4700 - lr: 1.0000e-04\n",
      "Epoch 4/45\n",
      "67/67 [==============================] - ETA: 0s - loss: 0.0950 - categorical_accuracy: 0.9925\n",
      "Epoch 4: saving model to model_initCNN2DLSTM_2_22022-09-1420_04_50.738367/model-00004-0.09497-0.99246-1.63673-0.55000.h5\n",
      "67/67 [==============================] - 278s 4s/step - loss: 0.0950 - categorical_accuracy: 0.9925 - val_loss: 1.6367 - val_categorical_accuracy: 0.5500 - lr: 1.0000e-04\n",
      "Epoch 5/45\n",
      "67/67 [==============================] - ETA: 0s - loss: 0.0679 - categorical_accuracy: 0.9940\n",
      "Epoch 5: saving model to model_initCNN2DLSTM_2_22022-09-1420_04_50.738367/model-00005-0.06789-0.99397-1.07576-0.64000.h5\n",
      "67/67 [==============================] - 268s 4s/step - loss: 0.0679 - categorical_accuracy: 0.9940 - val_loss: 1.0758 - val_categorical_accuracy: 0.6400 - lr: 1.0000e-04\n",
      "Epoch 6/45\n",
      "67/67 [==============================] - ETA: 0s - loss: 0.0473 - categorical_accuracy: 0.9970\n",
      "Epoch 6: saving model to model_initCNN2DLSTM_2_22022-09-1420_04_50.738367/model-00006-0.04735-0.99698-0.99644-0.73000.h5\n",
      "67/67 [==============================] - 266s 4s/step - loss: 0.0473 - categorical_accuracy: 0.9970 - val_loss: 0.9964 - val_categorical_accuracy: 0.7300 - lr: 1.0000e-04\n",
      "Epoch 7/45\n",
      "67/67 [==============================] - ETA: 0s - loss: 0.0389 - categorical_accuracy: 0.9970\n",
      "Epoch 7: saving model to model_initCNN2DLSTM_2_22022-09-1420_04_50.738367/model-00007-0.03888-0.99698-0.99859-0.69000.h5\n",
      "67/67 [==============================] - 269s 4s/step - loss: 0.0389 - categorical_accuracy: 0.9970 - val_loss: 0.9986 - val_categorical_accuracy: 0.6900 - lr: 1.0000e-04\n",
      "Epoch 8/45\n",
      "67/67 [==============================] - ETA: 0s - loss: 0.0214 - categorical_accuracy: 0.9985\n",
      "Epoch 8: saving model to model_initCNN2DLSTM_2_22022-09-1420_04_50.738367/model-00008-0.02144-0.99849-0.75010-0.80000.h5\n",
      "67/67 [==============================] - 265s 4s/step - loss: 0.0214 - categorical_accuracy: 0.9985 - val_loss: 0.7501 - val_categorical_accuracy: 0.8000 - lr: 1.0000e-04\n",
      "Epoch 9/45\n",
      "67/67 [==============================] - ETA: 0s - loss: 0.0207 - categorical_accuracy: 0.9985\n",
      "Epoch 9: saving model to model_initCNN2DLSTM_2_22022-09-1420_04_50.738367/model-00009-0.02073-0.99849-0.81237-0.77000.h5\n",
      "67/67 [==============================] - 264s 4s/step - loss: 0.0207 - categorical_accuracy: 0.9985 - val_loss: 0.8124 - val_categorical_accuracy: 0.7700 - lr: 1.0000e-04\n",
      "Epoch 10/45\n",
      "67/67 [==============================] - ETA: 0s - loss: 0.0143 - categorical_accuracy: 1.0000\n",
      "Epoch 10: saving model to model_initCNN2DLSTM_2_22022-09-1420_04_50.738367/model-00010-0.01426-1.00000-0.78230-0.74000.h5\n",
      "\n",
      "Epoch 10: ReduceLROnPlateau reducing learning rate to 4.999999873689376e-05.\n",
      "67/67 [==============================] - 263s 4s/step - loss: 0.0143 - categorical_accuracy: 1.0000 - val_loss: 0.7823 - val_categorical_accuracy: 0.7400 - lr: 1.0000e-04\n",
      "Epoch 11/45\n",
      "67/67 [==============================] - ETA: 0s - loss: 0.0114 - categorical_accuracy: 1.0000\n",
      "Epoch 11: saving model to model_initCNN2DLSTM_2_22022-09-1420_04_50.738367/model-00011-0.01143-1.00000-0.80949-0.75000.h5\n",
      "67/67 [==============================] - 262s 4s/step - loss: 0.0114 - categorical_accuracy: 1.0000 - val_loss: 0.8095 - val_categorical_accuracy: 0.7500 - lr: 5.0000e-05\n",
      "Epoch 12/45\n",
      "67/67 [==============================] - ETA: 0s - loss: 0.0071 - categorical_accuracy: 1.0000\n",
      "Epoch 12: saving model to model_initCNN2DLSTM_2_22022-09-1420_04_50.738367/model-00012-0.00713-1.00000-0.71988-0.78000.h5\n",
      "67/67 [==============================] - 264s 4s/step - loss: 0.0071 - categorical_accuracy: 1.0000 - val_loss: 0.7199 - val_categorical_accuracy: 0.7800 - lr: 5.0000e-05\n",
      "Epoch 13/45\n",
      "67/67 [==============================] - ETA: 0s - loss: 0.0088 - categorical_accuracy: 1.0000\n",
      "Epoch 13: saving model to model_initCNN2DLSTM_2_22022-09-1420_04_50.738367/model-00013-0.00881-1.00000-0.91754-0.68000.h5\n",
      "67/67 [==============================] - 263s 4s/step - loss: 0.0088 - categorical_accuracy: 1.0000 - val_loss: 0.9175 - val_categorical_accuracy: 0.6800 - lr: 5.0000e-05\n",
      "Epoch 14/45\n",
      "67/67 [==============================] - ETA: 0s - loss: 0.0052 - categorical_accuracy: 1.0000\n",
      "Epoch 14: saving model to model_initCNN2DLSTM_2_22022-09-1420_04_50.738367/model-00014-0.00522-1.00000-0.74364-0.79000.h5\n",
      "\n",
      "Epoch 14: ReduceLROnPlateau reducing learning rate to 2.499999936844688e-05.\n",
      "67/67 [==============================] - 263s 4s/step - loss: 0.0052 - categorical_accuracy: 1.0000 - val_loss: 0.7436 - val_categorical_accuracy: 0.7900 - lr: 5.0000e-05\n",
      "Epoch 15/45\n",
      "67/67 [==============================] - ETA: 0s - loss: 0.0058 - categorical_accuracy: 1.0000\n",
      "Epoch 15: saving model to model_initCNN2DLSTM_2_22022-09-1420_04_50.738367/model-00015-0.00580-1.00000-0.83511-0.76000.h5\n",
      "67/67 [==============================] - 264s 4s/step - loss: 0.0058 - categorical_accuracy: 1.0000 - val_loss: 0.8351 - val_categorical_accuracy: 0.7600 - lr: 2.5000e-05\n",
      "Epoch 16/45\n",
      "67/67 [==============================] - ETA: 0s - loss: 0.0060 - categorical_accuracy: 1.0000\n",
      "Epoch 16: saving model to model_initCNN2DLSTM_2_22022-09-1420_04_50.738367/model-00016-0.00597-1.00000-0.79569-0.74000.h5\n",
      "\n",
      "Epoch 16: ReduceLROnPlateau reducing learning rate to 1.249999968422344e-05.\n",
      "67/67 [==============================] - 262s 4s/step - loss: 0.0060 - categorical_accuracy: 1.0000 - val_loss: 0.7957 - val_categorical_accuracy: 0.7400 - lr: 2.5000e-05\n",
      "Epoch 17/45\n",
      "67/67 [==============================] - ETA: 0s - loss: 0.0051 - categorical_accuracy: 1.0000\n",
      "Epoch 17: saving model to model_initCNN2DLSTM_2_22022-09-1420_04_50.738367/model-00017-0.00506-1.00000-0.96002-0.71000.h5\n",
      "67/67 [==============================] - 262s 4s/step - loss: 0.0051 - categorical_accuracy: 1.0000 - val_loss: 0.9600 - val_categorical_accuracy: 0.7100 - lr: 1.2500e-05\n",
      "Epoch 18/45\n",
      "67/67 [==============================] - ETA: 0s - loss: 0.0052 - categorical_accuracy: 1.0000\n",
      "Epoch 18: saving model to model_initCNN2DLSTM_2_22022-09-1420_04_50.738367/model-00018-0.00515-1.00000-0.76890-0.78000.h5\n",
      "\n",
      "Epoch 18: ReduceLROnPlateau reducing learning rate to 6.24999984211172e-06.\n",
      "67/67 [==============================] - 262s 4s/step - loss: 0.0052 - categorical_accuracy: 1.0000 - val_loss: 0.7689 - val_categorical_accuracy: 0.7800 - lr: 1.2500e-05\n",
      "Epoch 19/45\n",
      "67/67 [==============================] - ETA: 0s - loss: 0.0052 - categorical_accuracy: 0.9985\n",
      "Epoch 19: saving model to model_initCNN2DLSTM_2_22022-09-1420_04_50.738367/model-00019-0.00517-0.99849-0.64330-0.78000.h5\n",
      "67/67 [==============================] - 259s 4s/step - loss: 0.0052 - categorical_accuracy: 0.9985 - val_loss: 0.6433 - val_categorical_accuracy: 0.7800 - lr: 6.2500e-06\n",
      "Epoch 20/45\n",
      "67/67 [==============================] - ETA: 0s - loss: 0.0048 - categorical_accuracy: 1.0000\n",
      "Epoch 20: saving model to model_initCNN2DLSTM_2_22022-09-1420_04_50.738367/model-00020-0.00476-1.00000-0.80111-0.76000.h5\n"
     ]
    },
    {
     "name": "stdout",
     "output_type": "stream",
     "text": [
      "67/67 [==============================] - 260s 4s/step - loss: 0.0048 - categorical_accuracy: 1.0000 - val_loss: 0.8011 - val_categorical_accuracy: 0.7600 - lr: 6.2500e-06\n",
      "Epoch 21/45\n",
      "67/67 [==============================] - ETA: 0s - loss: 0.0062 - categorical_accuracy: 1.0000\n",
      "Epoch 21: saving model to model_initCNN2DLSTM_2_22022-09-1420_04_50.738367/model-00021-0.00622-1.00000-0.78030-0.76000.h5\n",
      "\n",
      "Epoch 21: ReduceLROnPlateau reducing learning rate to 3.12499992105586e-06.\n",
      "67/67 [==============================] - 261s 4s/step - loss: 0.0062 - categorical_accuracy: 1.0000 - val_loss: 0.7803 - val_categorical_accuracy: 0.7600 - lr: 6.2500e-06\n",
      "Epoch 22/45\n",
      "67/67 [==============================] - ETA: 0s - loss: 0.0049 - categorical_accuracy: 1.0000\n",
      "Epoch 22: saving model to model_initCNN2DLSTM_2_22022-09-1420_04_50.738367/model-00022-0.00487-1.00000-0.77082-0.78000.h5\n",
      "67/67 [==============================] - 260s 4s/step - loss: 0.0049 - categorical_accuracy: 1.0000 - val_loss: 0.7708 - val_categorical_accuracy: 0.7800 - lr: 3.1250e-06\n",
      "Epoch 23/45\n",
      "67/67 [==============================] - ETA: 0s - loss: 0.0053 - categorical_accuracy: 1.0000\n",
      "Epoch 23: saving model to model_initCNN2DLSTM_2_22022-09-1420_04_50.738367/model-00023-0.00532-1.00000-0.67468-0.77000.h5\n",
      "\n",
      "Epoch 23: ReduceLROnPlateau reducing learning rate to 1.56249996052793e-06.\n",
      "67/67 [==============================] - 261s 4s/step - loss: 0.0053 - categorical_accuracy: 1.0000 - val_loss: 0.6747 - val_categorical_accuracy: 0.7700 - lr: 3.1250e-06\n",
      "Epoch 24/45\n",
      "67/67 [==============================] - ETA: 0s - loss: 0.0068 - categorical_accuracy: 1.0000\n",
      "Epoch 24: saving model to model_initCNN2DLSTM_2_22022-09-1420_04_50.738367/model-00024-0.00678-1.00000-0.83078-0.75000.h5\n",
      "67/67 [==============================] - 261s 4s/step - loss: 0.0068 - categorical_accuracy: 1.0000 - val_loss: 0.8308 - val_categorical_accuracy: 0.7500 - lr: 1.5625e-06\n",
      "Epoch 25/45\n",
      "67/67 [==============================] - ETA: 0s - loss: 0.0050 - categorical_accuracy: 1.0000\n",
      "Epoch 25: saving model to model_initCNN2DLSTM_2_22022-09-1420_04_50.738367/model-00025-0.00497-1.00000-0.57041-0.83000.h5\n",
      "67/67 [==============================] - 261s 4s/step - loss: 0.0050 - categorical_accuracy: 1.0000 - val_loss: 0.5704 - val_categorical_accuracy: 0.8300 - lr: 1.5625e-06\n",
      "Epoch 26/45\n",
      "67/67 [==============================] - ETA: 0s - loss: 0.0049 - categorical_accuracy: 1.0000\n",
      "Epoch 26: saving model to model_initCNN2DLSTM_2_22022-09-1420_04_50.738367/model-00026-0.00486-1.00000-0.81260-0.74000.h5\n",
      "67/67 [==============================] - 261s 4s/step - loss: 0.0049 - categorical_accuracy: 1.0000 - val_loss: 0.8126 - val_categorical_accuracy: 0.7400 - lr: 1.5625e-06\n",
      "Epoch 27/45\n",
      "67/67 [==============================] - ETA: 0s - loss: 0.0046 - categorical_accuracy: 1.0000\n",
      "Epoch 27: saving model to model_initCNN2DLSTM_2_22022-09-1420_04_50.738367/model-00027-0.00457-1.00000-0.70820-0.76000.h5\n",
      "\n",
      "Epoch 27: ReduceLROnPlateau reducing learning rate to 7.81249980263965e-07.\n",
      "67/67 [==============================] - 262s 4s/step - loss: 0.0046 - categorical_accuracy: 1.0000 - val_loss: 0.7082 - val_categorical_accuracy: 0.7600 - lr: 1.5625e-06\n",
      "Epoch 28/45\n",
      "67/67 [==============================] - ETA: 0s - loss: 0.0049 - categorical_accuracy: 1.0000\n",
      "Epoch 28: saving model to model_initCNN2DLSTM_2_22022-09-1420_04_50.738367/model-00028-0.00488-1.00000-0.64340-0.79000.h5\n",
      "67/67 [==============================] - 260s 4s/step - loss: 0.0049 - categorical_accuracy: 1.0000 - val_loss: 0.6434 - val_categorical_accuracy: 0.7900 - lr: 7.8125e-07\n",
      "Epoch 29/45\n",
      "67/67 [==============================] - ETA: 0s - loss: 0.0057 - categorical_accuracy: 1.0000\n",
      "Epoch 29: saving model to model_initCNN2DLSTM_2_22022-09-1420_04_50.738367/model-00029-0.00571-1.00000-0.98105-0.73000.h5\n",
      "\n",
      "Epoch 29: ReduceLROnPlateau reducing learning rate to 3.906249901319825e-07.\n",
      "67/67 [==============================] - 259s 4s/step - loss: 0.0057 - categorical_accuracy: 1.0000 - val_loss: 0.9811 - val_categorical_accuracy: 0.7300 - lr: 7.8125e-07\n",
      "Epoch 30/45\n",
      "67/67 [==============================] - ETA: 0s - loss: 0.0056 - categorical_accuracy: 1.0000\n",
      "Epoch 30: saving model to model_initCNN2DLSTM_2_22022-09-1420_04_50.738367/model-00030-0.00558-1.00000-0.71316-0.77000.h5\n",
      "67/67 [==============================] - 260s 4s/step - loss: 0.0056 - categorical_accuracy: 1.0000 - val_loss: 0.7132 - val_categorical_accuracy: 0.7700 - lr: 3.9062e-07\n",
      "Epoch 31/45\n",
      "67/67 [==============================] - ETA: 0s - loss: 0.0048 - categorical_accuracy: 1.0000\n",
      "Epoch 31: saving model to model_initCNN2DLSTM_2_22022-09-1420_04_50.738367/model-00031-0.00477-1.00000-0.77644-0.76000.h5\n",
      "\n",
      "Epoch 31: ReduceLROnPlateau reducing learning rate to 1.9531249506599124e-07.\n",
      "67/67 [==============================] - 259s 4s/step - loss: 0.0048 - categorical_accuracy: 1.0000 - val_loss: 0.7764 - val_categorical_accuracy: 0.7600 - lr: 3.9062e-07\n",
      "Epoch 32/45\n",
      "67/67 [==============================] - ETA: 0s - loss: 0.0059 - categorical_accuracy: 0.9985\n",
      "Epoch 32: saving model to model_initCNN2DLSTM_2_22022-09-1420_04_50.738367/model-00032-0.00593-0.99849-0.69157-0.80000.h5\n",
      "67/67 [==============================] - 259s 4s/step - loss: 0.0059 - categorical_accuracy: 0.9985 - val_loss: 0.6916 - val_categorical_accuracy: 0.8000 - lr: 1.9531e-07\n",
      "Epoch 33/45\n",
      "67/67 [==============================] - ETA: 0s - loss: 0.0041 - categorical_accuracy: 1.0000\n",
      "Epoch 33: saving model to model_initCNN2DLSTM_2_22022-09-1420_04_50.738367/model-00033-0.00411-1.00000-0.87608-0.74000.h5\n",
      "\n",
      "Epoch 33: ReduceLROnPlateau reducing learning rate to 9.765624753299562e-08.\n",
      "67/67 [==============================] - 259s 4s/step - loss: 0.0041 - categorical_accuracy: 1.0000 - val_loss: 0.8761 - val_categorical_accuracy: 0.7400 - lr: 1.9531e-07\n",
      "Epoch 34/45\n",
      "67/67 [==============================] - ETA: 0s - loss: 0.0048 - categorical_accuracy: 1.0000\n",
      "Epoch 34: saving model to model_initCNN2DLSTM_2_22022-09-1420_04_50.738367/model-00034-0.00477-1.00000-0.76327-0.78000.h5\n",
      "67/67 [==============================] - 259s 4s/step - loss: 0.0048 - categorical_accuracy: 1.0000 - val_loss: 0.7633 - val_categorical_accuracy: 0.7800 - lr: 9.7656e-08\n",
      "Epoch 35/45\n",
      "67/67 [==============================] - ETA: 0s - loss: 0.0044 - categorical_accuracy: 1.0000\n",
      "Epoch 35: saving model to model_initCNN2DLSTM_2_22022-09-1420_04_50.738367/model-00035-0.00444-1.00000-0.72402-0.75000.h5\n",
      "\n",
      "Epoch 35: ReduceLROnPlateau reducing learning rate to 4.882812376649781e-08.\n",
      "67/67 [==============================] - 260s 4s/step - loss: 0.0044 - categorical_accuracy: 1.0000 - val_loss: 0.7240 - val_categorical_accuracy: 0.7500 - lr: 9.7656e-08\n",
      "Epoch 36/45\n",
      "67/67 [==============================] - ETA: 0s - loss: 0.0042 - categorical_accuracy: 1.0000\n",
      "Epoch 36: saving model to model_initCNN2DLSTM_2_22022-09-1420_04_50.738367/model-00036-0.00415-1.00000-0.66824-0.77000.h5\n",
      "67/67 [==============================] - 261s 4s/step - loss: 0.0042 - categorical_accuracy: 1.0000 - val_loss: 0.6682 - val_categorical_accuracy: 0.7700 - lr: 4.8828e-08\n",
      "Epoch 37/45\n",
      "67/67 [==============================] - ETA: 0s - loss: 0.0049 - categorical_accuracy: 1.0000\n",
      "Epoch 37: saving model to model_initCNN2DLSTM_2_22022-09-1420_04_50.738367/model-00037-0.00491-1.00000-0.78284-0.76000.h5\n",
      "\n",
      "Epoch 37: ReduceLROnPlateau reducing learning rate to 2.4414061883248905e-08.\n",
      "67/67 [==============================] - 259s 4s/step - loss: 0.0049 - categorical_accuracy: 1.0000 - val_loss: 0.7828 - val_categorical_accuracy: 0.7600 - lr: 4.8828e-08\n",
      "Epoch 38/45\n",
      "67/67 [==============================] - ETA: 0s - loss: 0.0048 - categorical_accuracy: 1.0000\n",
      "Epoch 38: saving model to model_initCNN2DLSTM_2_22022-09-1420_04_50.738367/model-00038-0.00478-1.00000-0.76773-0.79000.h5\n",
      "67/67 [==============================] - 260s 4s/step - loss: 0.0048 - categorical_accuracy: 1.0000 - val_loss: 0.7677 - val_categorical_accuracy: 0.7900 - lr: 2.4414e-08\n",
      "Epoch 39/45\n",
      "67/67 [==============================] - ETA: 0s - loss: 0.0049 - categorical_accuracy: 1.0000\n",
      "Epoch 39: saving model to model_initCNN2DLSTM_2_22022-09-1420_04_50.738367/model-00039-0.00488-1.00000-0.88446-0.71000.h5\n"
     ]
    },
    {
     "name": "stdout",
     "output_type": "stream",
     "text": [
      "\n",
      "Epoch 39: ReduceLROnPlateau reducing learning rate to 1.2207030941624453e-08.\n",
      "67/67 [==============================] - 262s 4s/step - loss: 0.0049 - categorical_accuracy: 1.0000 - val_loss: 0.8845 - val_categorical_accuracy: 0.7100 - lr: 2.4414e-08\n",
      "Epoch 40/45\n",
      "67/67 [==============================] - ETA: 0s - loss: 0.0040 - categorical_accuracy: 1.0000\n",
      "Epoch 40: saving model to model_initCNN2DLSTM_2_22022-09-1420_04_50.738367/model-00040-0.00397-1.00000-0.77321-0.76000.h5\n",
      "67/67 [==============================] - 260s 4s/step - loss: 0.0040 - categorical_accuracy: 1.0000 - val_loss: 0.7732 - val_categorical_accuracy: 0.7600 - lr: 1.2207e-08\n",
      "Epoch 41/45\n",
      "67/67 [==============================] - ETA: 0s - loss: 0.0061 - categorical_accuracy: 1.0000\n",
      "Epoch 41: saving model to model_initCNN2DLSTM_2_22022-09-1420_04_50.738367/model-00041-0.00607-1.00000-0.77907-0.76000.h5\n",
      "\n",
      "Epoch 41: ReduceLROnPlateau reducing learning rate to 6.103515470812226e-09.\n",
      "67/67 [==============================] - 260s 4s/step - loss: 0.0061 - categorical_accuracy: 1.0000 - val_loss: 0.7791 - val_categorical_accuracy: 0.7600 - lr: 1.2207e-08\n",
      "Epoch 42/45\n",
      "67/67 [==============================] - ETA: 0s - loss: 0.0043 - categorical_accuracy: 1.0000\n",
      "Epoch 42: saving model to model_initCNN2DLSTM_2_22022-09-1420_04_50.738367/model-00042-0.00429-1.00000-0.74944-0.77000.h5\n",
      "67/67 [==============================] - 260s 4s/step - loss: 0.0043 - categorical_accuracy: 1.0000 - val_loss: 0.7494 - val_categorical_accuracy: 0.7700 - lr: 6.1035e-09\n",
      "Epoch 43/45\n",
      "67/67 [==============================] - ETA: 0s - loss: 0.0054 - categorical_accuracy: 1.0000\n",
      "Epoch 43: saving model to model_initCNN2DLSTM_2_22022-09-1420_04_50.738367/model-00043-0.00541-1.00000-0.72667-0.78000.h5\n",
      "\n",
      "Epoch 43: ReduceLROnPlateau reducing learning rate to 3.051757735406113e-09.\n",
      "67/67 [==============================] - 261s 4s/step - loss: 0.0054 - categorical_accuracy: 1.0000 - val_loss: 0.7267 - val_categorical_accuracy: 0.7800 - lr: 6.1035e-09\n",
      "Epoch 44/45\n",
      "67/67 [==============================] - ETA: 0s - loss: 0.0050 - categorical_accuracy: 1.0000\n",
      "Epoch 44: saving model to model_initCNN2DLSTM_2_22022-09-1420_04_50.738367/model-00044-0.00501-1.00000-0.96996-0.71000.h5\n",
      "67/67 [==============================] - 259s 4s/step - loss: 0.0050 - categorical_accuracy: 1.0000 - val_loss: 0.9700 - val_categorical_accuracy: 0.7100 - lr: 3.0518e-09\n",
      "Epoch 45/45\n",
      "67/67 [==============================] - ETA: 0s - loss: 0.0039 - categorical_accuracy: 1.0000\n",
      "Epoch 45: saving model to model_initCNN2DLSTM_2_22022-09-1420_04_50.738367/model-00045-0.00388-1.00000-0.68091-0.76000.h5\n",
      "\n",
      "Epoch 45: ReduceLROnPlateau reducing learning rate to 1.5258788677030566e-09.\n",
      "67/67 [==============================] - 262s 4s/step - loss: 0.0039 - categorical_accuracy: 1.0000 - val_loss: 0.6809 - val_categorical_accuracy: 0.7600 - lr: 3.0518e-09\n"
     ]
    }
   ],
   "source": [
    "history = model.fit_generator(train_generator, steps_per_epoch=steps_per_epoch, epochs=epochs, verbose=1, \n",
    "                    callbacks=callbacks_list, validation_data=val_generator, \n",
    "                    validation_steps=validation_steps, class_weight=None, workers=1, initial_epoch=0)"
   ]
  },
  {
   "cell_type": "code",
   "execution_count": 19,
   "metadata": {},
   "outputs": [
    {
     "data": {
      "text/plain": [
       "<matplotlib.legend.Legend at 0x7f140241aca0>"
      ]
     },
     "execution_count": 19,
     "metadata": {},
     "output_type": "execute_result"
    },
    {
     "data": {
      "image/png": "[encoded data removed]",
      "text/plain": [
       "<Figure size 1440x432 with 2 Axes>"
      ]
     },
     "metadata": {
      "needs_background": "light"
     },
     "output_type": "display_data"
    }
   ],
   "source": [
    "plt.figure(figsize=(20,6))\n",
    "ax1 = plt.subplot(121)\n",
    "ax1 = plt.plot(history.history['loss'])\n",
    "ax1 = plt.plot(history.history['val_loss'])\n",
    "plt.title('model loss')\n",
    "plt.ylabel('loss')\n",
    "plt.xlabel('epoch')\n",
    "plt.legend(['train', 'validation'], loc='lower left')\n",
    "ax2 = plt.subplot(122)\n",
    "ax2 = plt.plot(history.history['categorical_accuracy'])\n",
    "ax2 = plt.plot(history.history['val_categorical_accuracy'])\n",
    "plt.title('model accuracy')\n",
    "plt.ylabel('categorical_accuracy')\n",
    "plt.xlabel('epoch')\n",
    "plt.legend(['train', 'validation'], loc='lower left')"
   ]
  },
  {
   "cell_type": "markdown",
   "metadata": {},
   "source": [
    "Training Accuracy: 100.00%\n",
    "Validation Accuracy: 76.00%"
   ]
  },
  {
   "cell_type": "markdown",
   "metadata": {},
   "source": [
    "# Conclusion"
   ]
  },
  {
   "cell_type": "markdown",
   "metadata": {},
   "source": [
    "After trying out multiple models, CNN2D + LSTM (45 Epochs and SGD) seems to be a better model in terms of Accuracy of Training and Validation and has comparitively less Training Loss. The selected checkpoint .h5 has been attached with the same."
   ]
  },
  {
   "cell_type": "code",
   "execution_count": null,
   "metadata": {},
   "outputs": [],
   "source": []
  }
 ],
 "metadata": {
  "kernelspec": {
   "display_name": "Python 3 (ipykernel)",
   "language": "python",
   "name": "python3"
  },
  "language_info": {
   "codemirror_mode": {
    "name": "ipython",
    "version": 3
   },
   "file_extension": ".py",
   "mimetype": "text/x-python",
   "name": "python",
   "nbconvert_exporter": "python",
   "pygments_lexer": "ipython3",
   "version": "3.8.10"
  }
 },
 "nbformat": 4,
 "nbformat_minor": 2
}
